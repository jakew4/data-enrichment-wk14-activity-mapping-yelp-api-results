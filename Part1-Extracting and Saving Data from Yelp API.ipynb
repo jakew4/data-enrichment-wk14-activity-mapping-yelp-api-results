{
 "cells": [
  {
   "cell_type": "markdown",
   "metadata": {
    "id": "8guYh-VR7nlX"
   },
   "source": [
    "# Part 1 - Extracting and Saving Data from Yelp API"
   ]
  },
  {
   "cell_type": "markdown",
   "metadata": {},
   "source": [
    "## Obective"
   ]
  },
  {
   "cell_type": "markdown",
   "metadata": {
    "id": "8guYh-VR7nlX"
   },
   "source": [
    "- For this CodeAlong, we will be working with the Yelp API. \n",
    "- You will use the the Yelp API to search your home town for a cuisine type of your choice.\n",
    "- Next class, we will then use Plotly Express to create a map with the Mapbox API to visualize the results.\n",
    "    \n",
    "    "
   ]
  },
  {
   "cell_type": "markdown",
   "metadata": {
    "id": "8guYh-VR7nlX"
   },
   "source": [
    "## Tools You Will Use\n",
    "- Part 1:\n",
    "    - Yelp API:\n",
    "        - Getting Started: \n",
    "            - https://www.yelp.com/developers/documentation/v3/get_started\n",
    "\n",
    "    - `YelpAPI` python package\n",
    "        -  \"YelpAPI\": https://github.com/gfairchild/yelpapi\n",
    "- Part 2:\n",
    "\n",
    "    - Plotly Express: https://plotly.com/python/getting-started/\n",
    "        - With Mapbox API: https://www.mapbox.com/\n",
    "        - `px.scatter_mapbox` [Documentation](https://plotly.com/python/scattermapbox/): \n",
    "\n",
    "\n"
   ]
  },
  {
   "cell_type": "markdown",
   "metadata": {},
   "source": [
    "### Applying Code From\n",
    "- Efficient API Calls Lesson Link: https://login.codingdojo.com/m/376/12529/88078"
   ]
  },
  {
   "cell_type": "code",
   "execution_count": 1,
   "metadata": {},
   "outputs": [],
   "source": [
    "# Standard Imports\n",
    "import numpy as np\n",
    "import pandas as pd\n",
    "import matplotlib.pyplot as plt\n",
    "import seaborn as sns\n",
    "\n",
    "# Additional Imports\n",
    "import os, json, math, time\n",
    "from yelpapi import YelpAPI\n",
    "from tqdm.notebook import tqdm_notebook"
   ]
  },
  {
   "cell_type": "code",
   "execution_count": 2,
   "metadata": {},
   "outputs": [
    {
     "name": "stdout",
     "output_type": "stream",
     "text": [
      "Requirement already satisfied: yelpapi in /opt/homebrew/Caskroom/miniforge/base/envs/dojo-env/lib/python3.8/site-packages (2.4.0)\r\n",
      "Requirement already satisfied: requests in /opt/homebrew/Caskroom/miniforge/base/envs/dojo-env/lib/python3.8/site-packages (from yelpapi) (2.28.1)\r\n",
      "Requirement already satisfied: certifi>=2017.4.17 in /opt/homebrew/Caskroom/miniforge/base/envs/dojo-env/lib/python3.8/site-packages (from requests->yelpapi) (2022.6.15)\r\n",
      "Requirement already satisfied: urllib3<1.27,>=1.21.1 in /opt/homebrew/Caskroom/miniforge/base/envs/dojo-env/lib/python3.8/site-packages (from requests->yelpapi) (1.26.8)\r\n",
      "Requirement already satisfied: charset-normalizer<3,>=2 in /opt/homebrew/Caskroom/miniforge/base/envs/dojo-env/lib/python3.8/site-packages (from requests->yelpapi) (2.1.0)\r\n",
      "Requirement already satisfied: idna<4,>=2.5 in /opt/homebrew/Caskroom/miniforge/base/envs/dojo-env/lib/python3.8/site-packages (from requests->yelpapi) (3.3)\r\n"
     ]
    }
   ],
   "source": [
    "!pip install yelpapi"
   ]
  },
  {
   "cell_type": "markdown",
   "metadata": {
    "id": "1l3Z-79nBSX9"
   },
   "source": [
    "## 1. Registering for Required APIs"
   ]
  },
  {
   "cell_type": "markdown",
   "metadata": {
    "id": "1l3Z-79nBSX9"
   },
   "source": [
    "\n",
    "- Yelp: https://www.yelp.com/developers/documentation/v3/get_started\n"
   ]
  },
  {
   "cell_type": "markdown",
   "metadata": {},
   "source": [
    "> Check the official API documentation to know what arguments we can search for: https://www.yelp.com/developers/documentation/v3/business_search"
   ]
  },
  {
   "cell_type": "markdown",
   "metadata": {},
   "source": [
    "### Load Credentials and Create Yelp API Object"
   ]
  },
  {
   "cell_type": "code",
   "execution_count": 2,
   "metadata": {
    "ExecuteTime": {
     "end_time": "2022-03-25T18:20:46.629934Z",
     "start_time": "2022-03-25T18:20:45.915864Z"
    },
    "colab": {
     "base_uri": "https://localhost:8080/"
    },
    "id": "xJYqVvNkE36a",
    "outputId": "67798160-dea2-41fc-9040-2b3833efa560"
   },
   "outputs": [
    {
     "data": {
      "text/plain": [
       "dict_keys(['client-id', 'api-key'])"
      ]
     },
     "execution_count": 2,
     "metadata": {},
     "output_type": "execute_result"
    }
   ],
   "source": [
    "# Load API Credentials\n",
    "with open('/Users/jacobwang/.secret/yelp_api.json') as f: #change the path to match YOUR path!!\n",
    "    login = json.load(f)\n",
    "login.keys()"
   ]
  },
  {
   "cell_type": "code",
   "execution_count": 3,
   "metadata": {},
   "outputs": [
    {
     "data": {
      "text/plain": [
       "<yelpapi.yelpapi.YelpAPI at 0x13ca212b0>"
      ]
     },
     "execution_count": 3,
     "metadata": {},
     "output_type": "execute_result"
    }
   ],
   "source": [
    "# Instantiate YelpAPI Variable\n",
    "yelp_api = YelpAPI(login['api-key'], timeout_s=5.0)\n",
    "yelp_api"
   ]
  },
  {
   "cell_type": "markdown",
   "metadata": {},
   "source": [
    "### Define Search Terms and File Paths"
   ]
  },
  {
   "cell_type": "code",
   "execution_count": 7,
   "metadata": {},
   "outputs": [],
   "source": [
    "# set our API call parameters and filename before the first call\n",
    "location = 'Philadelphia, PA'\n",
    "term = 'italian'"
   ]
  },
  {
   "cell_type": "code",
   "execution_count": 5,
   "metadata": {},
   "outputs": [],
   "source": [
    "## Specify fodler for saving data\n",
    "FOLDER = 'Data/'\n",
    "os.makedirs(FOLDER, exist_ok=True)\n"
   ]
  },
  {
   "cell_type": "code",
   "execution_count": 8,
   "metadata": {},
   "outputs": [],
   "source": [
    "# Specifying JSON_FILE filename (can include a folder)\n",
    "JSON_FILE = FOLDER+f\"{location.split(',')[0]}-{term}.json\""
   ]
  },
  {
   "cell_type": "code",
   "execution_count": 9,
   "metadata": {},
   "outputs": [
    {
     "data": {
      "text/plain": [
       "'Data/Philadelphia-italian.json'"
      ]
     },
     "execution_count": 9,
     "metadata": {},
     "output_type": "execute_result"
    }
   ],
   "source": [
    "JSON_FILE"
   ]
  },
  {
   "cell_type": "markdown",
   "metadata": {},
   "source": [
    "### Check if Json File exists and Create it if it doesn't"
   ]
  },
  {
   "cell_type": "code",
   "execution_count": 12,
   "metadata": {},
   "outputs": [
    {
     "name": "stdout",
     "output_type": "stream",
     "text": [
      "[i] Data/Philadelphia-italian.json not found. Saving empty list to file.\n"
     ]
    }
   ],
   "source": [
    "## Check if JSON_FILE exists\n",
    "file_exists = os.path.isfile(JSON_FILE)\n",
    "## If it does not exist: \n",
    "if file_exists == False:    \n",
    "    ## CREATE ANY NEEDED FOLDERS\n",
    "    # Get the Folder Name only\n",
    "    folder = os.path.dirname(JSON_FILE)\n",
    "    \n",
    "    ## If JSON_FILE included a folder:\n",
    "    if len(folder)>0:\n",
    "        # create the folder\n",
    "        os.makedirs(FOLDER, exist_ok=True)\n",
    "\n",
    "        \n",
    "        \n",
    "    ## INFORM USER AND SAVE EMPTY LIST\n",
    "    print(f\"[i] {JSON_FILE} not found. Saving empty list to file.\")\n",
    "    \n",
    "    \n",
    "    ## save the first page of results\n",
    "    with open(JSON_FILE, 'w')as f:\n",
    "        json.dump([], f)\n",
    "        \n",
    "## If it exists, inform user\n",
    "else: \n",
    "    print(f\"[i] {JSON_FILE} already exists.\")"
   ]
  },
  {
   "cell_type": "markdown",
   "metadata": {},
   "source": [
    "### Load JSON FIle and account for previous results"
   ]
  },
  {
   "cell_type": "code",
   "execution_count": null,
   "metadata": {},
   "outputs": [],
   "source": [
    "## Load previous results and use len of results for offset\n",
    "\n",
    "## set offset based on previous results\n"
   ]
  },
  {
   "cell_type": "markdown",
   "metadata": {},
   "source": [
    "### Make the first API call to get the first page of data"
   ]
  },
  {
   "cell_type": "markdown",
   "metadata": {},
   "source": [
    "- We will use this first result to check:\n",
    "    - how many total results there are?\n",
    "    - Where is the actual data we want to save?\n",
    "    - how many results do we get at a time?\n"
   ]
  },
  {
   "cell_type": "code",
   "execution_count": 16,
   "metadata": {},
   "outputs": [
    {
     "name": "stdout",
     "output_type": "stream",
     "text": [
      "{'businesses': [{'id': '-cEFKAznWmI0cledNOIQ7w', 'alias': 'gran-caffe-l-aquila-philadelphia', 'name': \"Gran Caffe L'Aquila\", 'image_url': 'https://s3-media3.fl.yelpcdn.com/bphoto/xKGtEMHg8-r_8XyaC585DQ/o.jpg', 'is_closed': False, 'url': 'https://www.yelp.com/biz/gran-caffe-l-aquila-philadelphia?adjust_creative=EPlkYaSpsl5pSK06lCD3BQ&utm_campaign=yelp_api_v3&utm_medium=api_v3_business_search&utm_source=EPlkYaSpsl5pSK06lCD3BQ', 'review_count': 1290, 'categories': [{'alias': 'coffee', 'title': 'Coffee & Tea'}, {'alias': 'italian', 'title': 'Italian'}, {'alias': 'gelato', 'title': 'Gelato'}], 'rating': 4.5, 'coordinates': {'latitude': 39.95127, 'longitude': -75.1695}, 'transactions': ['delivery', 'pickup'], 'price': '$$', 'location': {'address1': '1716 Chestnut St', 'address2': '', 'address3': '', 'city': 'Philadelphia', 'zip_code': '19103', 'country': 'US', 'state': 'PA', 'display_address': ['1716 Chestnut St', 'Philadelphia, PA 19103']}, 'phone': '+12155685600', 'display_phone': '(215) 568-5600', 'distance': 313.23491060398817}, {'id': '6ajnOk0GcY9xbb5Ocaw8Gw', 'alias': 'barbuzzo-philadelphia', 'name': 'Barbuzzo', 'image_url': 'https://s3-media3.fl.yelpcdn.com/bphoto/vCTPQ20REeES-bqyUTEstw/o.jpg', 'is_closed': False, 'url': 'https://www.yelp.com/biz/barbuzzo-philadelphia?adjust_creative=EPlkYaSpsl5pSK06lCD3BQ&utm_campaign=yelp_api_v3&utm_medium=api_v3_business_search&utm_source=EPlkYaSpsl5pSK06lCD3BQ', 'review_count': 3081, 'categories': [{'alias': 'mediterranean', 'title': 'Mediterranean'}, {'alias': 'pizza', 'title': 'Pizza'}, {'alias': 'italian', 'title': 'Italian'}], 'rating': 4.5, 'coordinates': {'latitude': 39.94999, 'longitude': -75.16216}, 'transactions': ['delivery', 'pickup'], 'price': '$$', 'location': {'address1': '110 S 13th St', 'address2': '', 'address3': '', 'city': 'Philadelphia', 'zip_code': '19107', 'country': 'US', 'state': 'PA', 'display_address': ['110 S 13th St', 'Philadelphia, PA 19107']}, 'phone': '+12155469300', 'display_phone': '(215) 546-9300', 'distance': 877.931789849032}, {'id': 'lKU_kljhbEQKIPaM1Zbqiw', 'alias': 'little-nonnas-philadelphia', 'name': \"Little Nonna's\", 'image_url': 'https://s3-media2.fl.yelpcdn.com/bphoto/0dQJ4dldFmUpQwxwBe3xGA/o.jpg', 'is_closed': False, 'url': 'https://www.yelp.com/biz/little-nonnas-philadelphia?adjust_creative=EPlkYaSpsl5pSK06lCD3BQ&utm_campaign=yelp_api_v3&utm_medium=api_v3_business_search&utm_source=EPlkYaSpsl5pSK06lCD3BQ', 'review_count': 1251, 'categories': [{'alias': 'italian', 'title': 'Italian'}], 'rating': 4.0, 'coordinates': {'latitude': 39.9477864380196, 'longitude': -75.1618928090843}, 'transactions': ['delivery', 'pickup'], 'price': '$$', 'location': {'address1': '1234 Locust St', 'address2': '', 'address3': '', 'city': 'Philadelphia', 'zip_code': '19107', 'country': 'US', 'state': 'PA', 'display_address': ['1234 Locust St', 'Philadelphia, PA 19107']}, 'phone': '+12155462100', 'display_phone': '(215) 546-2100', 'distance': 1036.521920338534}, {'id': 'dYinIkKBspHV5hSaukklFg', 'alias': 'l-angolo-ristorante-philadelphia-3', 'name': \"L'Angolo Ristorante\", 'image_url': 'https://s3-media1.fl.yelpcdn.com/bphoto/_-xeA0QZVW6p3SGTGu_6bw/o.jpg', 'is_closed': False, 'url': 'https://www.yelp.com/biz/l-angolo-ristorante-philadelphia-3?adjust_creative=EPlkYaSpsl5pSK06lCD3BQ&utm_campaign=yelp_api_v3&utm_medium=api_v3_business_search&utm_source=EPlkYaSpsl5pSK06lCD3BQ', 'review_count': 409, 'categories': [{'alias': 'italian', 'title': 'Italian'}], 'rating': 4.5, 'coordinates': {'latitude': 39.9196243286133, 'longitude': -75.1713714599609}, 'transactions': ['delivery', 'pickup'], 'price': '$$', 'location': {'address1': '1415 W Porter St', 'address2': None, 'address3': '', 'city': 'Philadelphia', 'zip_code': '19145', 'country': 'US', 'state': 'PA', 'display_address': ['1415 W Porter St', 'Philadelphia, PA 19145']}, 'phone': '+12153894252', 'display_phone': '(215) 389-4252', 'distance': 3797.786431732342}, {'id': '-bV-HbEV9F0qXvmukmQwbw', 'alias': 'luna-byob-philadelphia', 'name': 'Luna BYOB', 'image_url': 'https://s3-media4.fl.yelpcdn.com/bphoto/kR-O3pxIGQzRS14Pe0gqxg/o.jpg', 'is_closed': False, 'url': 'https://www.yelp.com/biz/luna-byob-philadelphia?adjust_creative=EPlkYaSpsl5pSK06lCD3BQ&utm_campaign=yelp_api_v3&utm_medium=api_v3_business_search&utm_source=EPlkYaSpsl5pSK06lCD3BQ', 'review_count': 6, 'categories': [{'alias': 'italian', 'title': 'Italian'}], 'rating': 5.0, 'coordinates': {'latitude': 39.949678356249585, 'longitude': -75.17380435019732}, 'transactions': [], 'location': {'address1': '227 S 20th St', 'address2': '', 'address3': None, 'city': 'Philadelphia', 'zip_code': '19103', 'country': 'US', 'state': 'PA', 'display_address': ['227 S 20th St', 'Philadelphia, PA 19103']}, 'phone': '+12156932220', 'display_phone': '(215) 693-2220', 'distance': 507.314834015289}, {'id': 'eLbKuFpCtHEjCkoWkDDk7g', 'alias': 'trattoria-carina-philadelphia-2', 'name': 'Trattoria Carina', 'image_url': 'https://s3-media4.fl.yelpcdn.com/bphoto/Q3N-1ybrVfhx9wz-SbJm_Q/o.jpg', 'is_closed': False, 'url': 'https://www.yelp.com/biz/trattoria-carina-philadelphia-2?adjust_creative=EPlkYaSpsl5pSK06lCD3BQ&utm_campaign=yelp_api_v3&utm_medium=api_v3_business_search&utm_source=EPlkYaSpsl5pSK06lCD3BQ', 'review_count': 280, 'categories': [{'alias': 'italian', 'title': 'Italian'}], 'rating': 4.5, 'coordinates': {'latitude': 39.94878, 'longitude': -75.17803}, 'transactions': ['delivery'], 'price': '$$', 'location': {'address1': '2201 Spruce St', 'address2': '', 'address3': None, 'city': 'Philadelphia', 'zip_code': '19103', 'country': 'US', 'state': 'PA', 'display_address': ['2201 Spruce St', 'Philadelphia, PA 19103']}, 'phone': '+12157325818', 'display_phone': '(215) 732-5818', 'distance': 798.3251533170863}, {'id': 'qnprJxrjwuEivitA8V2aEQ', 'alias': 'fiorella-philadelphia-2', 'name': 'Fiorella', 'image_url': 'https://s3-media3.fl.yelpcdn.com/bphoto/ntu7O8eXaY0xDbW5ILCgNA/o.jpg', 'is_closed': False, 'url': 'https://www.yelp.com/biz/fiorella-philadelphia-2?adjust_creative=EPlkYaSpsl5pSK06lCD3BQ&utm_campaign=yelp_api_v3&utm_medium=api_v3_business_search&utm_source=EPlkYaSpsl5pSK06lCD3BQ', 'review_count': 205, 'categories': [{'alias': 'pastashops', 'title': 'Pasta Shops'}, {'alias': 'italian', 'title': 'Italian'}], 'rating': 4.5, 'coordinates': {'latitude': 39.9388677767588, 'longitude': -75.156939}, 'transactions': ['delivery'], 'price': '$$$', 'location': {'address1': '817 Christian St', 'address2': '', 'address3': None, 'city': 'Philadelphia', 'zip_code': '19147', 'country': 'US', 'state': 'PA', 'display_address': ['817 Christian St', 'Philadelphia, PA 19147']}, 'phone': '+12153059222', 'display_phone': '(215) 305-9222', 'distance': 2056.4458574328987}, {'id': 'xdc0TbKkHMZN3N82oeq2XA', 'alias': 'via-locusta-philadelphia', 'name': 'Via Locusta', 'image_url': 'https://s3-media3.fl.yelpcdn.com/bphoto/B9sNFi9yh_rwqJ2VlY7Pmg/o.jpg', 'is_closed': False, 'url': 'https://www.yelp.com/biz/via-locusta-philadelphia?adjust_creative=EPlkYaSpsl5pSK06lCD3BQ&utm_campaign=yelp_api_v3&utm_medium=api_v3_business_search&utm_source=EPlkYaSpsl5pSK06lCD3BQ', 'review_count': 230, 'categories': [{'alias': 'italian', 'title': 'Italian'}, {'alias': 'tapasmallplates', 'title': 'Tapas/Small Plates'}, {'alias': 'cocktailbars', 'title': 'Cocktail Bars'}], 'rating': 4.5, 'coordinates': {'latitude': 39.9490553, 'longitude': -75.1704201}, 'transactions': ['delivery'], 'price': '$$$', 'location': {'address1': '1723 Locust St', 'address2': '', 'address3': None, 'city': 'Philadelphia', 'zip_code': '19103', 'country': 'US', 'state': 'PA', 'display_address': ['1723 Locust St', 'Philadelphia, PA 19103']}, 'phone': '+12156420020', 'display_phone': '(215) 642-0020', 'distance': 540.9744635165715}, {'id': 'sVZb87xjhbCWHQ2UXOGLrA', 'alias': 'giorgio-on-pine-philadelphia', 'name': 'Giorgio On Pine', 'image_url': 'https://s3-media1.fl.yelpcdn.com/bphoto/EwboUhG7DpIma12RtidNVw/o.jpg', 'is_closed': False, 'url': 'https://www.yelp.com/biz/giorgio-on-pine-philadelphia?adjust_creative=EPlkYaSpsl5pSK06lCD3BQ&utm_campaign=yelp_api_v3&utm_medium=api_v3_business_search&utm_source=EPlkYaSpsl5pSK06lCD3BQ', 'review_count': 1040, 'categories': [{'alias': 'italian', 'title': 'Italian'}, {'alias': 'pizza', 'title': 'Pizza'}], 'rating': 4.0, 'coordinates': {'latitude': 39.945339381185, 'longitude': -75.164454458833}, 'transactions': ['delivery', 'pickup'], 'price': '$$', 'location': {'address1': '1328 Pine St', 'address2': '', 'address3': '', 'city': 'Philadelphia', 'zip_code': '19107', 'country': 'US', 'state': 'PA', 'display_address': ['1328 Pine St', 'Philadelphia, PA 19107']}, 'phone': '+12155456265', 'display_phone': '(215) 545-6265', 'distance': 1101.0497017058951}, {'id': '2qVZiMB22YPC2HCM62Gnbw', 'alias': 'scarpetta-philadelphia', 'name': 'Scarpetta', 'image_url': 'https://s3-media2.fl.yelpcdn.com/bphoto/G5lGck-lOxXJKBw2IPgqHw/o.jpg', 'is_closed': False, 'url': 'https://www.yelp.com/biz/scarpetta-philadelphia?adjust_creative=EPlkYaSpsl5pSK06lCD3BQ&utm_campaign=yelp_api_v3&utm_medium=api_v3_business_search&utm_source=EPlkYaSpsl5pSK06lCD3BQ', 'review_count': 235, 'categories': [{'alias': 'italian', 'title': 'Italian'}, {'alias': 'bars', 'title': 'Bars'}, {'alias': 'tradamerican', 'title': 'American (Traditional)'}], 'rating': 4.0, 'coordinates': {'latitude': 39.9498657276508, 'longitude': -75.1733916252851}, 'transactions': ['delivery', 'pickup'], 'price': '$$$', 'location': {'address1': '210 W Rittenhouse Square', 'address2': '', 'address3': None, 'city': 'Philadelphia', 'zip_code': '19103', 'country': 'US', 'state': 'PA', 'display_address': ['210 W Rittenhouse Square', 'Philadelphia, PA 19103']}, 'phone': '+12155584199', 'display_phone': '(215) 558-4199', 'distance': 473.73762602186446}, {'id': 'arKiXax3ScSM_z3O-0CIyw', 'alias': 'spasso-italian-grill-philadelphia-2', 'name': 'Spasso Italian Grill', 'image_url': 'https://s3-media4.fl.yelpcdn.com/bphoto/Kei23erd3jt1SeuPF3_OZg/o.jpg', 'is_closed': False, 'url': 'https://www.yelp.com/biz/spasso-italian-grill-philadelphia-2?adjust_creative=EPlkYaSpsl5pSK06lCD3BQ&utm_campaign=yelp_api_v3&utm_medium=api_v3_business_search&utm_source=EPlkYaSpsl5pSK06lCD3BQ', 'review_count': 602, 'categories': [{'alias': 'italian', 'title': 'Italian'}, {'alias': 'seafood', 'title': 'Seafood'}, {'alias': 'beerbar', 'title': 'Beer Bar'}], 'rating': 4.0, 'coordinates': {'latitude': 39.94868, 'longitude': -75.1428}, 'transactions': ['delivery'], 'price': '$$', 'location': {'address1': '34 S Front St', 'address2': '', 'address3': '', 'city': 'Philadelphia', 'zip_code': '19106', 'country': 'US', 'state': 'PA', 'display_address': ['34 S Front St', 'Philadelphia, PA 19106']}, 'phone': '+12155927661', 'display_phone': '(215) 592-7661', 'distance': 2495.454777976287}, {'id': '2gDkEvBPkl-ATS_eqaMvxQ', 'alias': 'la-nonna-philadelphia', 'name': 'La Nonna', 'image_url': 'https://s3-media2.fl.yelpcdn.com/bphoto/0vaK8x0lrBsxo_Pig85dRg/o.jpg', 'is_closed': False, 'url': 'https://www.yelp.com/biz/la-nonna-philadelphia?adjust_creative=EPlkYaSpsl5pSK06lCD3BQ&utm_campaign=yelp_api_v3&utm_medium=api_v3_business_search&utm_source=EPlkYaSpsl5pSK06lCD3BQ', 'review_count': 181, 'categories': [{'alias': 'italian', 'title': 'Italian'}, {'alias': 'comfortfood', 'title': 'Comfort Food'}, {'alias': 'pastashops', 'title': 'Pasta Shops'}], 'rating': 4.5, 'coordinates': {'latitude': 39.94117, 'longitude': -75.146112}, 'transactions': ['delivery', 'pickup'], 'price': '$$', 'location': {'address1': '214 S St', 'address2': '', 'address3': '', 'city': 'Philadelphia', 'zip_code': '19147', 'country': 'US', 'state': 'PA', 'display_address': ['214 S St', 'Philadelphia, PA 19147']}, 'phone': '+12679283262', 'display_phone': '(267) 928-3262', 'distance': 2557.7010750210266}, {'id': 'FJBcOZXm9IRBpUQvvg8vDw', 'alias': 'bottega-rittenhouse-philadelphia', 'name': 'Bottega Rittenhouse', 'image_url': 'https://s3-media4.fl.yelpcdn.com/bphoto/H189ERO5vAY-m9CvxkGohw/o.jpg', 'is_closed': False, 'url': 'https://www.yelp.com/biz/bottega-rittenhouse-philadelphia?adjust_creative=EPlkYaSpsl5pSK06lCD3BQ&utm_campaign=yelp_api_v3&utm_medium=api_v3_business_search&utm_source=EPlkYaSpsl5pSK06lCD3BQ', 'review_count': 2, 'categories': [{'alias': 'italian', 'title': 'Italian'}, {'alias': 'gelato', 'title': 'Gelato'}, {'alias': 'sandwiches', 'title': 'Sandwiches'}], 'rating': 5.0, 'coordinates': {'latitude': 39.947918, 'longitude': -75.169351}, 'transactions': ['delivery', 'pickup'], 'location': {'address1': '263 S 17th St', 'address2': '', 'address3': None, 'city': 'Philadelphia', 'zip_code': '19103', 'country': 'US', 'state': 'PA', 'display_address': ['263 S 17th St', 'Philadelphia, PA 19103']}, 'phone': '', 'display_phone': '', 'distance': 672.4038652011109}, {'id': 'ozOneB4jXOD6hv5WBGj4KQ', 'alias': 'ristorante-pesto-philadelphia', 'name': 'Ristorante Pesto', 'image_url': 'https://s3-media3.fl.yelpcdn.com/bphoto/DKuKrK1JNP6DFKPM7ffLbA/o.jpg', 'is_closed': False, 'url': 'https://www.yelp.com/biz/ristorante-pesto-philadelphia?adjust_creative=EPlkYaSpsl5pSK06lCD3BQ&utm_campaign=yelp_api_v3&utm_medium=api_v3_business_search&utm_source=EPlkYaSpsl5pSK06lCD3BQ', 'review_count': 656, 'categories': [{'alias': 'italian', 'title': 'Italian'}], 'rating': 4.5, 'coordinates': {'latitude': 39.92634, 'longitude': -75.16888}, 'transactions': ['delivery', 'pickup'], 'price': '$$', 'location': {'address1': '1915 S Broad St', 'address2': '', 'address3': '', 'city': 'Philadelphia', 'zip_code': '19148', 'country': 'US', 'state': 'PA', 'display_address': ['1915 S Broad St', 'Philadelphia, PA 19148']}, 'phone': '+12153368380', 'display_phone': '(215) 336-8380', 'distance': 3055.834756999918}, {'id': 'erz6oUEJdx787WyOlxMARw', 'alias': 'dante-and-luigis-philadelphia', 'name': \"Dante & Luigi's\", 'image_url': 'https://s3-media1.fl.yelpcdn.com/bphoto/7r5Juez1Eedm3g23ku3syQ/o.jpg', 'is_closed': False, 'url': 'https://www.yelp.com/biz/dante-and-luigis-philadelphia?adjust_creative=EPlkYaSpsl5pSK06lCD3BQ&utm_campaign=yelp_api_v3&utm_medium=api_v3_business_search&utm_source=EPlkYaSpsl5pSK06lCD3BQ', 'review_count': 452, 'categories': [{'alias': 'italian', 'title': 'Italian'}], 'rating': 4.0, 'coordinates': {'latitude': 39.9400687844998, 'longitude': -75.159422962926}, 'transactions': ['delivery'], 'price': '$$', 'location': {'address1': '762 S 10th St', 'address2': '', 'address3': '', 'city': 'Philadelphia', 'zip_code': '19147', 'country': 'US', 'state': 'PA', 'display_address': ['762 S 10th St', 'Philadelphia, PA 19147']}, 'phone': '+12159229501', 'display_phone': '(215) 922-9501', 'distance': 1825.841398784789}, {'id': '05ev984NYfimRN0UiFrxaA', 'alias': 'osteria-philadelphia-2', 'name': 'Osteria', 'image_url': 'https://s3-media3.fl.yelpcdn.com/bphoto/uWqLyxl18HI-4KhAjfaF4w/o.jpg', 'is_closed': False, 'url': 'https://www.yelp.com/biz/osteria-philadelphia-2?adjust_creative=EPlkYaSpsl5pSK06lCD3BQ&utm_campaign=yelp_api_v3&utm_medium=api_v3_business_search&utm_source=EPlkYaSpsl5pSK06lCD3BQ', 'review_count': 956, 'categories': [{'alias': 'italian', 'title': 'Italian'}, {'alias': 'wine_bars', 'title': 'Wine Bars'}], 'rating': 4.0, 'coordinates': {'latitude': 39.965015, 'longitude': -75.161076}, 'transactions': ['delivery'], 'price': '$$$', 'location': {'address1': '640 N Broad St', 'address2': '', 'address3': '', 'city': 'Philadelphia', 'zip_code': '19130', 'country': 'US', 'state': 'PA', 'display_address': ['640 N Broad St', 'Philadelphia, PA 19130']}, 'phone': '+12157630920', 'display_phone': '(215) 763-0920', 'distance': 1518.2851742594885}, {'id': 'y8gjlpJA89qDRCLC0JQaew', 'alias': 'giuseppe-and-sons-philadelphia-2', 'name': 'Giuseppe & Sons', 'image_url': 'https://s3-media2.fl.yelpcdn.com/bphoto/HwzxU35DNqmIvOnT-31Y7w/o.jpg', 'is_closed': False, 'url': 'https://www.yelp.com/biz/giuseppe-and-sons-philadelphia-2?adjust_creative=EPlkYaSpsl5pSK06lCD3BQ&utm_campaign=yelp_api_v3&utm_medium=api_v3_business_search&utm_source=EPlkYaSpsl5pSK06lCD3BQ', 'review_count': 327, 'categories': [{'alias': 'italian', 'title': 'Italian'}, {'alias': 'bars', 'title': 'Bars'}], 'rating': 4.0, 'coordinates': {'latitude': 39.9504087434756, 'longitude': -75.1662252985327}, 'transactions': ['delivery'], 'price': '$$', 'location': {'address1': '1523 Sansom St', 'address2': '', 'address3': None, 'city': 'Philadelphia', 'zip_code': '19102', 'country': 'US', 'state': 'PA', 'display_address': ['1523 Sansom St', 'Philadelphia, PA 19102']}, 'phone': '+12153999199', 'display_phone': '(215) 399-9199', 'distance': 529.9486739542351}, {'id': 'ZsSsyknkpARZUrD6rRH27A', 'alias': 'alimentari-philadelphia', 'name': 'Alimentari', 'image_url': 'https://s3-media4.fl.yelpcdn.com/bphoto/VFQDWduqCTDzXOkeWD1UNw/o.jpg', 'is_closed': False, 'url': 'https://www.yelp.com/biz/alimentari-philadelphia?adjust_creative=EPlkYaSpsl5pSK06lCD3BQ&utm_campaign=yelp_api_v3&utm_medium=api_v3_business_search&utm_source=EPlkYaSpsl5pSK06lCD3BQ', 'review_count': 46, 'categories': [{'alias': 'wine_bars', 'title': 'Wine Bars'}, {'alias': 'italian', 'title': 'Italian'}], 'rating': 4.5, 'coordinates': {'latitude': 39.9513109633379, 'longitude': -75.1700653508306}, 'transactions': ['delivery'], 'price': '$$', 'location': {'address1': '1730 Chestnut St', 'address2': '', 'address3': None, 'city': 'Philadelphia', 'zip_code': '19103', 'country': 'US', 'state': 'PA', 'display_address': ['1730 Chestnut St', 'Philadelphia, PA 19103']}, 'phone': '+12677645143', 'display_phone': '(267) 764-5143', 'distance': 291.4038850273817}, {'id': 'oVwEPg-BADIFl2SlGma6jg', 'alias': 'burrata-philadelphia', 'name': 'Burrata', 'image_url': 'https://s3-media4.fl.yelpcdn.com/bphoto/VNALBQHCy-XcHEQoR0aeqw/o.jpg', 'is_closed': False, 'url': 'https://www.yelp.com/biz/burrata-philadelphia?adjust_creative=EPlkYaSpsl5pSK06lCD3BQ&utm_campaign=yelp_api_v3&utm_medium=api_v3_business_search&utm_source=EPlkYaSpsl5pSK06lCD3BQ', 'review_count': 180, 'categories': [{'alias': 'italian', 'title': 'Italian'}], 'rating': 4.5, 'coordinates': {'latitude': 39.9339252433408, 'longitude': -75.1652430742979}, 'transactions': ['delivery'], 'price': '$$', 'location': {'address1': '1247 S 13th St', 'address2': '', 'address3': None, 'city': 'Philadelphia', 'zip_code': '19147', 'country': 'US', 'state': 'PA', 'display_address': ['1247 S 13th St', 'Philadelphia, PA 19147']}, 'phone': '+12154652200', 'display_phone': '(215) 465-2200', 'distance': 2265.694889728396}, {'id': '4cTm_8r-abJriSMC2Pw98A', 'alias': 'prunella-philadelphia', 'name': 'Prunella', 'image_url': 'https://s3-media1.fl.yelpcdn.com/bphoto/3COJlfoNk59DTg2XO4jQ1A/o.jpg', 'is_closed': False, 'url': 'https://www.yelp.com/biz/prunella-philadelphia?adjust_creative=EPlkYaSpsl5pSK06lCD3BQ&utm_campaign=yelp_api_v3&utm_medium=api_v3_business_search&utm_source=EPlkYaSpsl5pSK06lCD3BQ', 'review_count': 93, 'categories': [{'alias': 'italian', 'title': 'Italian'}, {'alias': 'pizza', 'title': 'Pizza'}, {'alias': 'wine_bars', 'title': 'Wine Bars'}], 'rating': 4.5, 'coordinates': {'latitude': 39.94994, 'longitude': -75.16217}, 'transactions': [], 'price': '$$', 'location': {'address1': '112 S 13th St', 'address2': None, 'address3': '', 'city': 'Philadelphia', 'zip_code': '19107', 'country': 'US', 'state': 'PA', 'display_address': ['112 S 13th St', 'Philadelphia, PA 19107']}, 'phone': '+12156318058', 'display_phone': '(215) 631-8058', 'distance': 879.7543691358132}], 'total': 3200, 'region': {'center': {'longitude': -75.17120361328125, 'latitude': 39.95378209544653}}}\n"
     ]
    },
    {
     "data": {
      "text/plain": [
       "dict"
      ]
     },
     "execution_count": 16,
     "metadata": {},
     "output_type": "execute_result"
    }
   ],
   "source": [
    "# use our yelp_api variable's search_query method to perform our API call\n",
    "results = yelp_api.search_query(location=location,\n",
    "                                       term=term)\n",
    "print((results))\n",
    "type(results)"
   ]
  },
  {
   "cell_type": "code",
   "execution_count": 17,
   "metadata": {
    "ExecuteTime": {
     "end_time": "2022-03-24T20:01:48.867510Z",
     "start_time": "2022-03-24T20:01:48.854746Z"
    },
    "colab": {
     "base_uri": "https://localhost:8080/"
    },
    "id": "Myur3i1KGhPf",
    "outputId": "f447c6f9-596b-41d0-ccda-50af0ce82108"
   },
   "outputs": [
    {
     "data": {
      "text/plain": [
       "3"
      ]
     },
     "execution_count": 17,
     "metadata": {},
     "output_type": "execute_result"
    }
   ],
   "source": [
    "## How many results total?\n",
    "len(results)"
   ]
  },
  {
   "cell_type": "markdown",
   "metadata": {},
   "source": [
    "- Where is the actual data we want to save?"
   ]
  },
  {
   "cell_type": "code",
   "execution_count": 18,
   "metadata": {},
   "outputs": [
    {
     "data": {
      "text/plain": [
       "dict_keys(['businesses', 'total', 'region'])"
      ]
     },
     "execution_count": 18,
     "metadata": {},
     "output_type": "execute_result"
    }
   ],
   "source": [
    "results.keys()"
   ]
  },
  {
   "cell_type": "code",
   "execution_count": 19,
   "metadata": {},
   "outputs": [
    {
     "data": {
      "text/plain": [
       "{'id': '-cEFKAznWmI0cledNOIQ7w',\n",
       " 'alias': 'gran-caffe-l-aquila-philadelphia',\n",
       " 'name': \"Gran Caffe L'Aquila\",\n",
       " 'image_url': 'https://s3-media3.fl.yelpcdn.com/bphoto/xKGtEMHg8-r_8XyaC585DQ/o.jpg',\n",
       " 'is_closed': False,\n",
       " 'url': 'https://www.yelp.com/biz/gran-caffe-l-aquila-philadelphia?adjust_creative=EPlkYaSpsl5pSK06lCD3BQ&utm_campaign=yelp_api_v3&utm_medium=api_v3_business_search&utm_source=EPlkYaSpsl5pSK06lCD3BQ',\n",
       " 'review_count': 1290,\n",
       " 'categories': [{'alias': 'coffee', 'title': 'Coffee & Tea'},\n",
       "  {'alias': 'italian', 'title': 'Italian'},\n",
       "  {'alias': 'gelato', 'title': 'Gelato'}],\n",
       " 'rating': 4.5,\n",
       " 'coordinates': {'latitude': 39.95127, 'longitude': -75.1695},\n",
       " 'transactions': ['delivery', 'pickup'],\n",
       " 'price': '$$',\n",
       " 'location': {'address1': '1716 Chestnut St',\n",
       "  'address2': '',\n",
       "  'address3': '',\n",
       "  'city': 'Philadelphia',\n",
       "  'zip_code': '19103',\n",
       "  'country': 'US',\n",
       "  'state': 'PA',\n",
       "  'display_address': ['1716 Chestnut St', 'Philadelphia, PA 19103']},\n",
       " 'phone': '+12155685600',\n",
       " 'display_phone': '(215) 568-5600',\n",
       " 'distance': 313.23491060398817}"
      ]
     },
     "execution_count": 19,
     "metadata": {},
     "output_type": "execute_result"
    }
   ],
   "source": [
    "results['businesses'][0]"
   ]
  },
  {
   "cell_type": "code",
   "execution_count": 20,
   "metadata": {},
   "outputs": [
    {
     "data": {
      "text/plain": [
       "3200"
      ]
     },
     "execution_count": 20,
     "metadata": {},
     "output_type": "execute_result"
    }
   ],
   "source": [
    "results['total']"
   ]
  },
  {
   "cell_type": "code",
   "execution_count": 21,
   "metadata": {},
   "outputs": [
    {
     "data": {
      "text/html": [
       "<div>\n",
       "<style scoped>\n",
       "    .dataframe tbody tr th:only-of-type {\n",
       "        vertical-align: middle;\n",
       "    }\n",
       "\n",
       "    .dataframe tbody tr th {\n",
       "        vertical-align: top;\n",
       "    }\n",
       "\n",
       "    .dataframe thead th {\n",
       "        text-align: right;\n",
       "    }\n",
       "</style>\n",
       "<table border=\"1\" class=\"dataframe\">\n",
       "  <thead>\n",
       "    <tr style=\"text-align: right;\">\n",
       "      <th></th>\n",
       "      <th>id</th>\n",
       "      <th>alias</th>\n",
       "      <th>name</th>\n",
       "      <th>image_url</th>\n",
       "      <th>is_closed</th>\n",
       "      <th>url</th>\n",
       "      <th>review_count</th>\n",
       "      <th>categories</th>\n",
       "      <th>rating</th>\n",
       "      <th>coordinates</th>\n",
       "      <th>transactions</th>\n",
       "      <th>price</th>\n",
       "      <th>location</th>\n",
       "      <th>phone</th>\n",
       "      <th>display_phone</th>\n",
       "      <th>distance</th>\n",
       "    </tr>\n",
       "  </thead>\n",
       "  <tbody>\n",
       "    <tr>\n",
       "      <th>0</th>\n",
       "      <td>-cEFKAznWmI0cledNOIQ7w</td>\n",
       "      <td>gran-caffe-l-aquila-philadelphia</td>\n",
       "      <td>Gran Caffe L'Aquila</td>\n",
       "      <td>https://s3-media3.fl.yelpcdn.com/bphoto/xKGtEM...</td>\n",
       "      <td>False</td>\n",
       "      <td>https://www.yelp.com/biz/gran-caffe-l-aquila-p...</td>\n",
       "      <td>1290</td>\n",
       "      <td>[{'alias': 'coffee', 'title': 'Coffee &amp; Tea'},...</td>\n",
       "      <td>4.5</td>\n",
       "      <td>{'latitude': 39.95127, 'longitude': -75.1695}</td>\n",
       "      <td>[delivery, pickup]</td>\n",
       "      <td>$$</td>\n",
       "      <td>{'address1': '1716 Chestnut St', 'address2': '...</td>\n",
       "      <td>+12155685600</td>\n",
       "      <td>(215) 568-5600</td>\n",
       "      <td>313.234911</td>\n",
       "    </tr>\n",
       "    <tr>\n",
       "      <th>1</th>\n",
       "      <td>6ajnOk0GcY9xbb5Ocaw8Gw</td>\n",
       "      <td>barbuzzo-philadelphia</td>\n",
       "      <td>Barbuzzo</td>\n",
       "      <td>https://s3-media3.fl.yelpcdn.com/bphoto/vCTPQ2...</td>\n",
       "      <td>False</td>\n",
       "      <td>https://www.yelp.com/biz/barbuzzo-philadelphia...</td>\n",
       "      <td>3081</td>\n",
       "      <td>[{'alias': 'mediterranean', 'title': 'Mediterr...</td>\n",
       "      <td>4.5</td>\n",
       "      <td>{'latitude': 39.94999, 'longitude': -75.16216}</td>\n",
       "      <td>[delivery, pickup]</td>\n",
       "      <td>$$</td>\n",
       "      <td>{'address1': '110 S 13th St', 'address2': '', ...</td>\n",
       "      <td>+12155469300</td>\n",
       "      <td>(215) 546-9300</td>\n",
       "      <td>877.931790</td>\n",
       "    </tr>\n",
       "    <tr>\n",
       "      <th>2</th>\n",
       "      <td>lKU_kljhbEQKIPaM1Zbqiw</td>\n",
       "      <td>little-nonnas-philadelphia</td>\n",
       "      <td>Little Nonna's</td>\n",
       "      <td>https://s3-media2.fl.yelpcdn.com/bphoto/0dQJ4d...</td>\n",
       "      <td>False</td>\n",
       "      <td>https://www.yelp.com/biz/little-nonnas-philade...</td>\n",
       "      <td>1251</td>\n",
       "      <td>[{'alias': 'italian', 'title': 'Italian'}]</td>\n",
       "      <td>4.0</td>\n",
       "      <td>{'latitude': 39.9477864380196, 'longitude': -7...</td>\n",
       "      <td>[delivery, pickup]</td>\n",
       "      <td>$$</td>\n",
       "      <td>{'address1': '1234 Locust St', 'address2': '',...</td>\n",
       "      <td>+12155462100</td>\n",
       "      <td>(215) 546-2100</td>\n",
       "      <td>1036.521920</td>\n",
       "    </tr>\n",
       "    <tr>\n",
       "      <th>3</th>\n",
       "      <td>dYinIkKBspHV5hSaukklFg</td>\n",
       "      <td>l-angolo-ristorante-philadelphia-3</td>\n",
       "      <td>L'Angolo Ristorante</td>\n",
       "      <td>https://s3-media1.fl.yelpcdn.com/bphoto/_-xeA0...</td>\n",
       "      <td>False</td>\n",
       "      <td>https://www.yelp.com/biz/l-angolo-ristorante-p...</td>\n",
       "      <td>409</td>\n",
       "      <td>[{'alias': 'italian', 'title': 'Italian'}]</td>\n",
       "      <td>4.5</td>\n",
       "      <td>{'latitude': 39.9196243286133, 'longitude': -7...</td>\n",
       "      <td>[delivery, pickup]</td>\n",
       "      <td>$$</td>\n",
       "      <td>{'address1': '1415 W Porter St', 'address2': N...</td>\n",
       "      <td>+12153894252</td>\n",
       "      <td>(215) 389-4252</td>\n",
       "      <td>3797.786432</td>\n",
       "    </tr>\n",
       "    <tr>\n",
       "      <th>4</th>\n",
       "      <td>-bV-HbEV9F0qXvmukmQwbw</td>\n",
       "      <td>luna-byob-philadelphia</td>\n",
       "      <td>Luna BYOB</td>\n",
       "      <td>https://s3-media4.fl.yelpcdn.com/bphoto/kR-O3p...</td>\n",
       "      <td>False</td>\n",
       "      <td>https://www.yelp.com/biz/luna-byob-philadelphi...</td>\n",
       "      <td>6</td>\n",
       "      <td>[{'alias': 'italian', 'title': 'Italian'}]</td>\n",
       "      <td>5.0</td>\n",
       "      <td>{'latitude': 39.949678356249585, 'longitude': ...</td>\n",
       "      <td>[]</td>\n",
       "      <td>NaN</td>\n",
       "      <td>{'address1': '227 S 20th St', 'address2': '', ...</td>\n",
       "      <td>+12156932220</td>\n",
       "      <td>(215) 693-2220</td>\n",
       "      <td>507.314834</td>\n",
       "    </tr>\n",
       "    <tr>\n",
       "      <th>5</th>\n",
       "      <td>eLbKuFpCtHEjCkoWkDDk7g</td>\n",
       "      <td>trattoria-carina-philadelphia-2</td>\n",
       "      <td>Trattoria Carina</td>\n",
       "      <td>https://s3-media4.fl.yelpcdn.com/bphoto/Q3N-1y...</td>\n",
       "      <td>False</td>\n",
       "      <td>https://www.yelp.com/biz/trattoria-carina-phil...</td>\n",
       "      <td>280</td>\n",
       "      <td>[{'alias': 'italian', 'title': 'Italian'}]</td>\n",
       "      <td>4.5</td>\n",
       "      <td>{'latitude': 39.94878, 'longitude': -75.17803}</td>\n",
       "      <td>[delivery]</td>\n",
       "      <td>$$</td>\n",
       "      <td>{'address1': '2201 Spruce St', 'address2': '',...</td>\n",
       "      <td>+12157325818</td>\n",
       "      <td>(215) 732-5818</td>\n",
       "      <td>798.325153</td>\n",
       "    </tr>\n",
       "    <tr>\n",
       "      <th>6</th>\n",
       "      <td>qnprJxrjwuEivitA8V2aEQ</td>\n",
       "      <td>fiorella-philadelphia-2</td>\n",
       "      <td>Fiorella</td>\n",
       "      <td>https://s3-media3.fl.yelpcdn.com/bphoto/ntu7O8...</td>\n",
       "      <td>False</td>\n",
       "      <td>https://www.yelp.com/biz/fiorella-philadelphia...</td>\n",
       "      <td>205</td>\n",
       "      <td>[{'alias': 'pastashops', 'title': 'Pasta Shops...</td>\n",
       "      <td>4.5</td>\n",
       "      <td>{'latitude': 39.9388677767588, 'longitude': -7...</td>\n",
       "      <td>[delivery]</td>\n",
       "      <td>$$$</td>\n",
       "      <td>{'address1': '817 Christian St', 'address2': '...</td>\n",
       "      <td>+12153059222</td>\n",
       "      <td>(215) 305-9222</td>\n",
       "      <td>2056.445857</td>\n",
       "    </tr>\n",
       "    <tr>\n",
       "      <th>7</th>\n",
       "      <td>xdc0TbKkHMZN3N82oeq2XA</td>\n",
       "      <td>via-locusta-philadelphia</td>\n",
       "      <td>Via Locusta</td>\n",
       "      <td>https://s3-media3.fl.yelpcdn.com/bphoto/B9sNFi...</td>\n",
       "      <td>False</td>\n",
       "      <td>https://www.yelp.com/biz/via-locusta-philadelp...</td>\n",
       "      <td>230</td>\n",
       "      <td>[{'alias': 'italian', 'title': 'Italian'}, {'a...</td>\n",
       "      <td>4.5</td>\n",
       "      <td>{'latitude': 39.9490553, 'longitude': -75.1704...</td>\n",
       "      <td>[delivery]</td>\n",
       "      <td>$$$</td>\n",
       "      <td>{'address1': '1723 Locust St', 'address2': '',...</td>\n",
       "      <td>+12156420020</td>\n",
       "      <td>(215) 642-0020</td>\n",
       "      <td>540.974464</td>\n",
       "    </tr>\n",
       "    <tr>\n",
       "      <th>8</th>\n",
       "      <td>sVZb87xjhbCWHQ2UXOGLrA</td>\n",
       "      <td>giorgio-on-pine-philadelphia</td>\n",
       "      <td>Giorgio On Pine</td>\n",
       "      <td>https://s3-media1.fl.yelpcdn.com/bphoto/EwboUh...</td>\n",
       "      <td>False</td>\n",
       "      <td>https://www.yelp.com/biz/giorgio-on-pine-phila...</td>\n",
       "      <td>1040</td>\n",
       "      <td>[{'alias': 'italian', 'title': 'Italian'}, {'a...</td>\n",
       "      <td>4.0</td>\n",
       "      <td>{'latitude': 39.945339381185, 'longitude': -75...</td>\n",
       "      <td>[delivery, pickup]</td>\n",
       "      <td>$$</td>\n",
       "      <td>{'address1': '1328 Pine St', 'address2': '', '...</td>\n",
       "      <td>+12155456265</td>\n",
       "      <td>(215) 545-6265</td>\n",
       "      <td>1101.049702</td>\n",
       "    </tr>\n",
       "    <tr>\n",
       "      <th>9</th>\n",
       "      <td>2qVZiMB22YPC2HCM62Gnbw</td>\n",
       "      <td>scarpetta-philadelphia</td>\n",
       "      <td>Scarpetta</td>\n",
       "      <td>https://s3-media2.fl.yelpcdn.com/bphoto/G5lGck...</td>\n",
       "      <td>False</td>\n",
       "      <td>https://www.yelp.com/biz/scarpetta-philadelphi...</td>\n",
       "      <td>235</td>\n",
       "      <td>[{'alias': 'italian', 'title': 'Italian'}, {'a...</td>\n",
       "      <td>4.0</td>\n",
       "      <td>{'latitude': 39.9498657276508, 'longitude': -7...</td>\n",
       "      <td>[delivery, pickup]</td>\n",
       "      <td>$$$</td>\n",
       "      <td>{'address1': '210 W Rittenhouse Square', 'addr...</td>\n",
       "      <td>+12155584199</td>\n",
       "      <td>(215) 558-4199</td>\n",
       "      <td>473.737626</td>\n",
       "    </tr>\n",
       "    <tr>\n",
       "      <th>10</th>\n",
       "      <td>arKiXax3ScSM_z3O-0CIyw</td>\n",
       "      <td>spasso-italian-grill-philadelphia-2</td>\n",
       "      <td>Spasso Italian Grill</td>\n",
       "      <td>https://s3-media4.fl.yelpcdn.com/bphoto/Kei23e...</td>\n",
       "      <td>False</td>\n",
       "      <td>https://www.yelp.com/biz/spasso-italian-grill-...</td>\n",
       "      <td>602</td>\n",
       "      <td>[{'alias': 'italian', 'title': 'Italian'}, {'a...</td>\n",
       "      <td>4.0</td>\n",
       "      <td>{'latitude': 39.94868, 'longitude': -75.1428}</td>\n",
       "      <td>[delivery]</td>\n",
       "      <td>$$</td>\n",
       "      <td>{'address1': '34 S Front St', 'address2': '', ...</td>\n",
       "      <td>+12155927661</td>\n",
       "      <td>(215) 592-7661</td>\n",
       "      <td>2495.454778</td>\n",
       "    </tr>\n",
       "    <tr>\n",
       "      <th>11</th>\n",
       "      <td>2gDkEvBPkl-ATS_eqaMvxQ</td>\n",
       "      <td>la-nonna-philadelphia</td>\n",
       "      <td>La Nonna</td>\n",
       "      <td>https://s3-media2.fl.yelpcdn.com/bphoto/0vaK8x...</td>\n",
       "      <td>False</td>\n",
       "      <td>https://www.yelp.com/biz/la-nonna-philadelphia...</td>\n",
       "      <td>181</td>\n",
       "      <td>[{'alias': 'italian', 'title': 'Italian'}, {'a...</td>\n",
       "      <td>4.5</td>\n",
       "      <td>{'latitude': 39.94117, 'longitude': -75.146112}</td>\n",
       "      <td>[delivery, pickup]</td>\n",
       "      <td>$$</td>\n",
       "      <td>{'address1': '214 S St', 'address2': '', 'addr...</td>\n",
       "      <td>+12679283262</td>\n",
       "      <td>(267) 928-3262</td>\n",
       "      <td>2557.701075</td>\n",
       "    </tr>\n",
       "    <tr>\n",
       "      <th>12</th>\n",
       "      <td>FJBcOZXm9IRBpUQvvg8vDw</td>\n",
       "      <td>bottega-rittenhouse-philadelphia</td>\n",
       "      <td>Bottega Rittenhouse</td>\n",
       "      <td>https://s3-media4.fl.yelpcdn.com/bphoto/H189ER...</td>\n",
       "      <td>False</td>\n",
       "      <td>https://www.yelp.com/biz/bottega-rittenhouse-p...</td>\n",
       "      <td>2</td>\n",
       "      <td>[{'alias': 'italian', 'title': 'Italian'}, {'a...</td>\n",
       "      <td>5.0</td>\n",
       "      <td>{'latitude': 39.947918, 'longitude': -75.169351}</td>\n",
       "      <td>[delivery, pickup]</td>\n",
       "      <td>NaN</td>\n",
       "      <td>{'address1': '263 S 17th St', 'address2': '', ...</td>\n",
       "      <td></td>\n",
       "      <td></td>\n",
       "      <td>672.403865</td>\n",
       "    </tr>\n",
       "    <tr>\n",
       "      <th>13</th>\n",
       "      <td>ozOneB4jXOD6hv5WBGj4KQ</td>\n",
       "      <td>ristorante-pesto-philadelphia</td>\n",
       "      <td>Ristorante Pesto</td>\n",
       "      <td>https://s3-media3.fl.yelpcdn.com/bphoto/DKuKrK...</td>\n",
       "      <td>False</td>\n",
       "      <td>https://www.yelp.com/biz/ristorante-pesto-phil...</td>\n",
       "      <td>656</td>\n",
       "      <td>[{'alias': 'italian', 'title': 'Italian'}]</td>\n",
       "      <td>4.5</td>\n",
       "      <td>{'latitude': 39.92634, 'longitude': -75.16888}</td>\n",
       "      <td>[delivery, pickup]</td>\n",
       "      <td>$$</td>\n",
       "      <td>{'address1': '1915 S Broad St', 'address2': ''...</td>\n",
       "      <td>+12153368380</td>\n",
       "      <td>(215) 336-8380</td>\n",
       "      <td>3055.834757</td>\n",
       "    </tr>\n",
       "    <tr>\n",
       "      <th>14</th>\n",
       "      <td>erz6oUEJdx787WyOlxMARw</td>\n",
       "      <td>dante-and-luigis-philadelphia</td>\n",
       "      <td>Dante &amp; Luigi's</td>\n",
       "      <td>https://s3-media1.fl.yelpcdn.com/bphoto/7r5Jue...</td>\n",
       "      <td>False</td>\n",
       "      <td>https://www.yelp.com/biz/dante-and-luigis-phil...</td>\n",
       "      <td>452</td>\n",
       "      <td>[{'alias': 'italian', 'title': 'Italian'}]</td>\n",
       "      <td>4.0</td>\n",
       "      <td>{'latitude': 39.9400687844998, 'longitude': -7...</td>\n",
       "      <td>[delivery]</td>\n",
       "      <td>$$</td>\n",
       "      <td>{'address1': '762 S 10th St', 'address2': '', ...</td>\n",
       "      <td>+12159229501</td>\n",
       "      <td>(215) 922-9501</td>\n",
       "      <td>1825.841399</td>\n",
       "    </tr>\n",
       "    <tr>\n",
       "      <th>15</th>\n",
       "      <td>05ev984NYfimRN0UiFrxaA</td>\n",
       "      <td>osteria-philadelphia-2</td>\n",
       "      <td>Osteria</td>\n",
       "      <td>https://s3-media3.fl.yelpcdn.com/bphoto/uWqLyx...</td>\n",
       "      <td>False</td>\n",
       "      <td>https://www.yelp.com/biz/osteria-philadelphia-...</td>\n",
       "      <td>956</td>\n",
       "      <td>[{'alias': 'italian', 'title': 'Italian'}, {'a...</td>\n",
       "      <td>4.0</td>\n",
       "      <td>{'latitude': 39.965015, 'longitude': -75.161076}</td>\n",
       "      <td>[delivery]</td>\n",
       "      <td>$$$</td>\n",
       "      <td>{'address1': '640 N Broad St', 'address2': '',...</td>\n",
       "      <td>+12157630920</td>\n",
       "      <td>(215) 763-0920</td>\n",
       "      <td>1518.285174</td>\n",
       "    </tr>\n",
       "    <tr>\n",
       "      <th>16</th>\n",
       "      <td>y8gjlpJA89qDRCLC0JQaew</td>\n",
       "      <td>giuseppe-and-sons-philadelphia-2</td>\n",
       "      <td>Giuseppe &amp; Sons</td>\n",
       "      <td>https://s3-media2.fl.yelpcdn.com/bphoto/HwzxU3...</td>\n",
       "      <td>False</td>\n",
       "      <td>https://www.yelp.com/biz/giuseppe-and-sons-phi...</td>\n",
       "      <td>327</td>\n",
       "      <td>[{'alias': 'italian', 'title': 'Italian'}, {'a...</td>\n",
       "      <td>4.0</td>\n",
       "      <td>{'latitude': 39.9504087434756, 'longitude': -7...</td>\n",
       "      <td>[delivery]</td>\n",
       "      <td>$$</td>\n",
       "      <td>{'address1': '1523 Sansom St', 'address2': '',...</td>\n",
       "      <td>+12153999199</td>\n",
       "      <td>(215) 399-9199</td>\n",
       "      <td>529.948674</td>\n",
       "    </tr>\n",
       "    <tr>\n",
       "      <th>17</th>\n",
       "      <td>ZsSsyknkpARZUrD6rRH27A</td>\n",
       "      <td>alimentari-philadelphia</td>\n",
       "      <td>Alimentari</td>\n",
       "      <td>https://s3-media4.fl.yelpcdn.com/bphoto/VFQDWd...</td>\n",
       "      <td>False</td>\n",
       "      <td>https://www.yelp.com/biz/alimentari-philadelph...</td>\n",
       "      <td>46</td>\n",
       "      <td>[{'alias': 'wine_bars', 'title': 'Wine Bars'},...</td>\n",
       "      <td>4.5</td>\n",
       "      <td>{'latitude': 39.9513109633379, 'longitude': -7...</td>\n",
       "      <td>[delivery]</td>\n",
       "      <td>$$</td>\n",
       "      <td>{'address1': '1730 Chestnut St', 'address2': '...</td>\n",
       "      <td>+12677645143</td>\n",
       "      <td>(267) 764-5143</td>\n",
       "      <td>291.403885</td>\n",
       "    </tr>\n",
       "    <tr>\n",
       "      <th>18</th>\n",
       "      <td>oVwEPg-BADIFl2SlGma6jg</td>\n",
       "      <td>burrata-philadelphia</td>\n",
       "      <td>Burrata</td>\n",
       "      <td>https://s3-media4.fl.yelpcdn.com/bphoto/VNALBQ...</td>\n",
       "      <td>False</td>\n",
       "      <td>https://www.yelp.com/biz/burrata-philadelphia?...</td>\n",
       "      <td>180</td>\n",
       "      <td>[{'alias': 'italian', 'title': 'Italian'}]</td>\n",
       "      <td>4.5</td>\n",
       "      <td>{'latitude': 39.9339252433408, 'longitude': -7...</td>\n",
       "      <td>[delivery]</td>\n",
       "      <td>$$</td>\n",
       "      <td>{'address1': '1247 S 13th St', 'address2': '',...</td>\n",
       "      <td>+12154652200</td>\n",
       "      <td>(215) 465-2200</td>\n",
       "      <td>2265.694890</td>\n",
       "    </tr>\n",
       "    <tr>\n",
       "      <th>19</th>\n",
       "      <td>4cTm_8r-abJriSMC2Pw98A</td>\n",
       "      <td>prunella-philadelphia</td>\n",
       "      <td>Prunella</td>\n",
       "      <td>https://s3-media1.fl.yelpcdn.com/bphoto/3COJlf...</td>\n",
       "      <td>False</td>\n",
       "      <td>https://www.yelp.com/biz/prunella-philadelphia...</td>\n",
       "      <td>93</td>\n",
       "      <td>[{'alias': 'italian', 'title': 'Italian'}, {'a...</td>\n",
       "      <td>4.5</td>\n",
       "      <td>{'latitude': 39.94994, 'longitude': -75.16217}</td>\n",
       "      <td>[]</td>\n",
       "      <td>$$</td>\n",
       "      <td>{'address1': '112 S 13th St', 'address2': None...</td>\n",
       "      <td>+12156318058</td>\n",
       "      <td>(215) 631-8058</td>\n",
       "      <td>879.754369</td>\n",
       "    </tr>\n",
       "  </tbody>\n",
       "</table>\n",
       "</div>"
      ],
      "text/plain": [
       "                        id                                alias  \\\n",
       "0   -cEFKAznWmI0cledNOIQ7w     gran-caffe-l-aquila-philadelphia   \n",
       "1   6ajnOk0GcY9xbb5Ocaw8Gw                barbuzzo-philadelphia   \n",
       "2   lKU_kljhbEQKIPaM1Zbqiw           little-nonnas-philadelphia   \n",
       "3   dYinIkKBspHV5hSaukklFg   l-angolo-ristorante-philadelphia-3   \n",
       "4   -bV-HbEV9F0qXvmukmQwbw               luna-byob-philadelphia   \n",
       "5   eLbKuFpCtHEjCkoWkDDk7g      trattoria-carina-philadelphia-2   \n",
       "6   qnprJxrjwuEivitA8V2aEQ              fiorella-philadelphia-2   \n",
       "7   xdc0TbKkHMZN3N82oeq2XA             via-locusta-philadelphia   \n",
       "8   sVZb87xjhbCWHQ2UXOGLrA         giorgio-on-pine-philadelphia   \n",
       "9   2qVZiMB22YPC2HCM62Gnbw               scarpetta-philadelphia   \n",
       "10  arKiXax3ScSM_z3O-0CIyw  spasso-italian-grill-philadelphia-2   \n",
       "11  2gDkEvBPkl-ATS_eqaMvxQ                la-nonna-philadelphia   \n",
       "12  FJBcOZXm9IRBpUQvvg8vDw     bottega-rittenhouse-philadelphia   \n",
       "13  ozOneB4jXOD6hv5WBGj4KQ        ristorante-pesto-philadelphia   \n",
       "14  erz6oUEJdx787WyOlxMARw        dante-and-luigis-philadelphia   \n",
       "15  05ev984NYfimRN0UiFrxaA               osteria-philadelphia-2   \n",
       "16  y8gjlpJA89qDRCLC0JQaew     giuseppe-and-sons-philadelphia-2   \n",
       "17  ZsSsyknkpARZUrD6rRH27A              alimentari-philadelphia   \n",
       "18  oVwEPg-BADIFl2SlGma6jg                 burrata-philadelphia   \n",
       "19  4cTm_8r-abJriSMC2Pw98A                prunella-philadelphia   \n",
       "\n",
       "                    name                                          image_url  \\\n",
       "0    Gran Caffe L'Aquila  https://s3-media3.fl.yelpcdn.com/bphoto/xKGtEM...   \n",
       "1               Barbuzzo  https://s3-media3.fl.yelpcdn.com/bphoto/vCTPQ2...   \n",
       "2         Little Nonna's  https://s3-media2.fl.yelpcdn.com/bphoto/0dQJ4d...   \n",
       "3    L'Angolo Ristorante  https://s3-media1.fl.yelpcdn.com/bphoto/_-xeA0...   \n",
       "4              Luna BYOB  https://s3-media4.fl.yelpcdn.com/bphoto/kR-O3p...   \n",
       "5       Trattoria Carina  https://s3-media4.fl.yelpcdn.com/bphoto/Q3N-1y...   \n",
       "6               Fiorella  https://s3-media3.fl.yelpcdn.com/bphoto/ntu7O8...   \n",
       "7            Via Locusta  https://s3-media3.fl.yelpcdn.com/bphoto/B9sNFi...   \n",
       "8        Giorgio On Pine  https://s3-media1.fl.yelpcdn.com/bphoto/EwboUh...   \n",
       "9              Scarpetta  https://s3-media2.fl.yelpcdn.com/bphoto/G5lGck...   \n",
       "10  Spasso Italian Grill  https://s3-media4.fl.yelpcdn.com/bphoto/Kei23e...   \n",
       "11              La Nonna  https://s3-media2.fl.yelpcdn.com/bphoto/0vaK8x...   \n",
       "12   Bottega Rittenhouse  https://s3-media4.fl.yelpcdn.com/bphoto/H189ER...   \n",
       "13      Ristorante Pesto  https://s3-media3.fl.yelpcdn.com/bphoto/DKuKrK...   \n",
       "14       Dante & Luigi's  https://s3-media1.fl.yelpcdn.com/bphoto/7r5Jue...   \n",
       "15               Osteria  https://s3-media3.fl.yelpcdn.com/bphoto/uWqLyx...   \n",
       "16       Giuseppe & Sons  https://s3-media2.fl.yelpcdn.com/bphoto/HwzxU3...   \n",
       "17            Alimentari  https://s3-media4.fl.yelpcdn.com/bphoto/VFQDWd...   \n",
       "18               Burrata  https://s3-media4.fl.yelpcdn.com/bphoto/VNALBQ...   \n",
       "19              Prunella  https://s3-media1.fl.yelpcdn.com/bphoto/3COJlf...   \n",
       "\n",
       "    is_closed                                                url  \\\n",
       "0       False  https://www.yelp.com/biz/gran-caffe-l-aquila-p...   \n",
       "1       False  https://www.yelp.com/biz/barbuzzo-philadelphia...   \n",
       "2       False  https://www.yelp.com/biz/little-nonnas-philade...   \n",
       "3       False  https://www.yelp.com/biz/l-angolo-ristorante-p...   \n",
       "4       False  https://www.yelp.com/biz/luna-byob-philadelphi...   \n",
       "5       False  https://www.yelp.com/biz/trattoria-carina-phil...   \n",
       "6       False  https://www.yelp.com/biz/fiorella-philadelphia...   \n",
       "7       False  https://www.yelp.com/biz/via-locusta-philadelp...   \n",
       "8       False  https://www.yelp.com/biz/giorgio-on-pine-phila...   \n",
       "9       False  https://www.yelp.com/biz/scarpetta-philadelphi...   \n",
       "10      False  https://www.yelp.com/biz/spasso-italian-grill-...   \n",
       "11      False  https://www.yelp.com/biz/la-nonna-philadelphia...   \n",
       "12      False  https://www.yelp.com/biz/bottega-rittenhouse-p...   \n",
       "13      False  https://www.yelp.com/biz/ristorante-pesto-phil...   \n",
       "14      False  https://www.yelp.com/biz/dante-and-luigis-phil...   \n",
       "15      False  https://www.yelp.com/biz/osteria-philadelphia-...   \n",
       "16      False  https://www.yelp.com/biz/giuseppe-and-sons-phi...   \n",
       "17      False  https://www.yelp.com/biz/alimentari-philadelph...   \n",
       "18      False  https://www.yelp.com/biz/burrata-philadelphia?...   \n",
       "19      False  https://www.yelp.com/biz/prunella-philadelphia...   \n",
       "\n",
       "    review_count                                         categories  rating  \\\n",
       "0           1290  [{'alias': 'coffee', 'title': 'Coffee & Tea'},...     4.5   \n",
       "1           3081  [{'alias': 'mediterranean', 'title': 'Mediterr...     4.5   \n",
       "2           1251         [{'alias': 'italian', 'title': 'Italian'}]     4.0   \n",
       "3            409         [{'alias': 'italian', 'title': 'Italian'}]     4.5   \n",
       "4              6         [{'alias': 'italian', 'title': 'Italian'}]     5.0   \n",
       "5            280         [{'alias': 'italian', 'title': 'Italian'}]     4.5   \n",
       "6            205  [{'alias': 'pastashops', 'title': 'Pasta Shops...     4.5   \n",
       "7            230  [{'alias': 'italian', 'title': 'Italian'}, {'a...     4.5   \n",
       "8           1040  [{'alias': 'italian', 'title': 'Italian'}, {'a...     4.0   \n",
       "9            235  [{'alias': 'italian', 'title': 'Italian'}, {'a...     4.0   \n",
       "10           602  [{'alias': 'italian', 'title': 'Italian'}, {'a...     4.0   \n",
       "11           181  [{'alias': 'italian', 'title': 'Italian'}, {'a...     4.5   \n",
       "12             2  [{'alias': 'italian', 'title': 'Italian'}, {'a...     5.0   \n",
       "13           656         [{'alias': 'italian', 'title': 'Italian'}]     4.5   \n",
       "14           452         [{'alias': 'italian', 'title': 'Italian'}]     4.0   \n",
       "15           956  [{'alias': 'italian', 'title': 'Italian'}, {'a...     4.0   \n",
       "16           327  [{'alias': 'italian', 'title': 'Italian'}, {'a...     4.0   \n",
       "17            46  [{'alias': 'wine_bars', 'title': 'Wine Bars'},...     4.5   \n",
       "18           180         [{'alias': 'italian', 'title': 'Italian'}]     4.5   \n",
       "19            93  [{'alias': 'italian', 'title': 'Italian'}, {'a...     4.5   \n",
       "\n",
       "                                          coordinates        transactions  \\\n",
       "0       {'latitude': 39.95127, 'longitude': -75.1695}  [delivery, pickup]   \n",
       "1      {'latitude': 39.94999, 'longitude': -75.16216}  [delivery, pickup]   \n",
       "2   {'latitude': 39.9477864380196, 'longitude': -7...  [delivery, pickup]   \n",
       "3   {'latitude': 39.9196243286133, 'longitude': -7...  [delivery, pickup]   \n",
       "4   {'latitude': 39.949678356249585, 'longitude': ...                  []   \n",
       "5      {'latitude': 39.94878, 'longitude': -75.17803}          [delivery]   \n",
       "6   {'latitude': 39.9388677767588, 'longitude': -7...          [delivery]   \n",
       "7   {'latitude': 39.9490553, 'longitude': -75.1704...          [delivery]   \n",
       "8   {'latitude': 39.945339381185, 'longitude': -75...  [delivery, pickup]   \n",
       "9   {'latitude': 39.9498657276508, 'longitude': -7...  [delivery, pickup]   \n",
       "10      {'latitude': 39.94868, 'longitude': -75.1428}          [delivery]   \n",
       "11    {'latitude': 39.94117, 'longitude': -75.146112}  [delivery, pickup]   \n",
       "12   {'latitude': 39.947918, 'longitude': -75.169351}  [delivery, pickup]   \n",
       "13     {'latitude': 39.92634, 'longitude': -75.16888}  [delivery, pickup]   \n",
       "14  {'latitude': 39.9400687844998, 'longitude': -7...          [delivery]   \n",
       "15   {'latitude': 39.965015, 'longitude': -75.161076}          [delivery]   \n",
       "16  {'latitude': 39.9504087434756, 'longitude': -7...          [delivery]   \n",
       "17  {'latitude': 39.9513109633379, 'longitude': -7...          [delivery]   \n",
       "18  {'latitude': 39.9339252433408, 'longitude': -7...          [delivery]   \n",
       "19     {'latitude': 39.94994, 'longitude': -75.16217}                  []   \n",
       "\n",
       "   price                                           location         phone  \\\n",
       "0     $$  {'address1': '1716 Chestnut St', 'address2': '...  +12155685600   \n",
       "1     $$  {'address1': '110 S 13th St', 'address2': '', ...  +12155469300   \n",
       "2     $$  {'address1': '1234 Locust St', 'address2': '',...  +12155462100   \n",
       "3     $$  {'address1': '1415 W Porter St', 'address2': N...  +12153894252   \n",
       "4    NaN  {'address1': '227 S 20th St', 'address2': '', ...  +12156932220   \n",
       "5     $$  {'address1': '2201 Spruce St', 'address2': '',...  +12157325818   \n",
       "6    $$$  {'address1': '817 Christian St', 'address2': '...  +12153059222   \n",
       "7    $$$  {'address1': '1723 Locust St', 'address2': '',...  +12156420020   \n",
       "8     $$  {'address1': '1328 Pine St', 'address2': '', '...  +12155456265   \n",
       "9    $$$  {'address1': '210 W Rittenhouse Square', 'addr...  +12155584199   \n",
       "10    $$  {'address1': '34 S Front St', 'address2': '', ...  +12155927661   \n",
       "11    $$  {'address1': '214 S St', 'address2': '', 'addr...  +12679283262   \n",
       "12   NaN  {'address1': '263 S 17th St', 'address2': '', ...                 \n",
       "13    $$  {'address1': '1915 S Broad St', 'address2': ''...  +12153368380   \n",
       "14    $$  {'address1': '762 S 10th St', 'address2': '', ...  +12159229501   \n",
       "15   $$$  {'address1': '640 N Broad St', 'address2': '',...  +12157630920   \n",
       "16    $$  {'address1': '1523 Sansom St', 'address2': '',...  +12153999199   \n",
       "17    $$  {'address1': '1730 Chestnut St', 'address2': '...  +12677645143   \n",
       "18    $$  {'address1': '1247 S 13th St', 'address2': '',...  +12154652200   \n",
       "19    $$  {'address1': '112 S 13th St', 'address2': None...  +12156318058   \n",
       "\n",
       "     display_phone     distance  \n",
       "0   (215) 568-5600   313.234911  \n",
       "1   (215) 546-9300   877.931790  \n",
       "2   (215) 546-2100  1036.521920  \n",
       "3   (215) 389-4252  3797.786432  \n",
       "4   (215) 693-2220   507.314834  \n",
       "5   (215) 732-5818   798.325153  \n",
       "6   (215) 305-9222  2056.445857  \n",
       "7   (215) 642-0020   540.974464  \n",
       "8   (215) 545-6265  1101.049702  \n",
       "9   (215) 558-4199   473.737626  \n",
       "10  (215) 592-7661  2495.454778  \n",
       "11  (267) 928-3262  2557.701075  \n",
       "12                   672.403865  \n",
       "13  (215) 336-8380  3055.834757  \n",
       "14  (215) 922-9501  1825.841399  \n",
       "15  (215) 763-0920  1518.285174  \n",
       "16  (215) 399-9199   529.948674  \n",
       "17  (267) 764-5143   291.403885  \n",
       "18  (215) 465-2200  2265.694890  \n",
       "19  (215) 631-8058   879.754369  "
      ]
     },
     "execution_count": 21,
     "metadata": {},
     "output_type": "execute_result"
    }
   ],
   "source": [
    "pd.DataFrame(results['businesses'])"
   ]
  },
  {
   "cell_type": "code",
   "execution_count": null,
   "metadata": {},
   "outputs": [],
   "source": []
  },
  {
   "cell_type": "code",
   "execution_count": 22,
   "metadata": {},
   "outputs": [
    {
     "data": {
      "text/plain": [
       "20"
      ]
     },
     "execution_count": 22,
     "metadata": {},
     "output_type": "execute_result"
    }
   ],
   "source": [
    "## How many did we get the details for?\n",
    "results_per_page = len(results['businesses'])\n",
    "results_per_page"
   ]
  },
  {
   "cell_type": "markdown",
   "metadata": {},
   "source": [
    "- Calculate how many pages of results needed to cover the total_results"
   ]
  },
  {
   "cell_type": "code",
   "execution_count": 25,
   "metadata": {},
   "outputs": [
    {
     "data": {
      "text/plain": [
       "160"
      ]
     },
     "execution_count": 25,
     "metadata": {},
     "output_type": "execute_result"
    }
   ],
   "source": [
    "# Use math.ceil to round up for the total number of pages of results.\n",
    "import time, math\n",
    "n_pages = math.ceil((results['total'])/results_per_page)\n",
    "n_pages"
   ]
  },
  {
   "cell_type": "code",
   "execution_count": 26,
   "metadata": {},
   "outputs": [
    {
     "data": {
      "application/vnd.jupyter.widget-view+json": {
       "model_id": "c4e7c40a5ad141c68d3483d17b13f0f0",
       "version_major": 2,
       "version_minor": 0
      },
      "text/plain": [
       "  0%|          | 0/160 [00:00<?, ?it/s]"
      ]
     },
     "metadata": {},
     "output_type": "display_data"
    },
    {
     "name": "stdout",
     "output_type": "stream",
     "text": [
      "[!] ERROR:  VALIDATION_ERROR: Too many results requested, limit+offset must be <= 1000.\n",
      "[!] ERROR:  VALIDATION_ERROR: Too many results requested, limit+offset must be <= 1000.\n",
      "[!] ERROR:  VALIDATION_ERROR: Too many results requested, limit+offset must be <= 1000.\n",
      "[!] ERROR:  VALIDATION_ERROR: Too many results requested, limit+offset must be <= 1000.\n",
      "[!] ERROR:  VALIDATION_ERROR: Too many results requested, limit+offset must be <= 1000.\n",
      "[!] ERROR:  VALIDATION_ERROR: Too many results requested, limit+offset must be <= 1000.\n",
      "[!] ERROR:  VALIDATION_ERROR: Too many results requested, limit+offset must be <= 1000.\n",
      "[!] ERROR:  VALIDATION_ERROR: Too many results requested, limit+offset must be <= 1000.\n",
      "[!] ERROR:  VALIDATION_ERROR: Too many results requested, limit+offset must be <= 1000.\n",
      "[!] ERROR:  VALIDATION_ERROR: Too many results requested, limit+offset must be <= 1000.\n",
      "[!] ERROR:  VALIDATION_ERROR: Too many results requested, limit+offset must be <= 1000.\n",
      "[!] ERROR:  VALIDATION_ERROR: Too many results requested, limit+offset must be <= 1000.\n",
      "[!] ERROR:  VALIDATION_ERROR: Too many results requested, limit+offset must be <= 1000.\n",
      "[!] ERROR:  VALIDATION_ERROR: Too many results requested, limit+offset must be <= 1000.\n",
      "[!] ERROR:  VALIDATION_ERROR: Too many results requested, limit+offset must be <= 1000.\n",
      "[!] ERROR:  VALIDATION_ERROR: Too many results requested, limit+offset must be <= 1000.\n",
      "[!] ERROR:  VALIDATION_ERROR: Too many results requested, limit+offset must be <= 1000.\n",
      "[!] ERROR:  VALIDATION_ERROR: Too many results requested, limit+offset must be <= 1000.\n",
      "[!] ERROR:  VALIDATION_ERROR: Too many results requested, limit+offset must be <= 1000.\n",
      "[!] ERROR:  VALIDATION_ERROR: Too many results requested, limit+offset must be <= 1000.\n",
      "[!] ERROR:  VALIDATION_ERROR: Too many results requested, limit+offset must be <= 1000.\n",
      "[!] ERROR:  VALIDATION_ERROR: Too many results requested, limit+offset must be <= 1000.\n",
      "[!] ERROR:  VALIDATION_ERROR: Too many results requested, limit+offset must be <= 1000.\n",
      "[!] ERROR:  VALIDATION_ERROR: Too many results requested, limit+offset must be <= 1000.\n",
      "[!] ERROR:  VALIDATION_ERROR: Too many results requested, limit+offset must be <= 1000.\n",
      "[!] ERROR:  VALIDATION_ERROR: Too many results requested, limit+offset must be <= 1000.\n",
      "[!] ERROR:  VALIDATION_ERROR: Too many results requested, limit+offset must be <= 1000.\n",
      "[!] ERROR:  VALIDATION_ERROR: Too many results requested, limit+offset must be <= 1000.\n",
      "[!] ERROR:  VALIDATION_ERROR: Too many results requested, limit+offset must be <= 1000.\n",
      "[!] ERROR:  VALIDATION_ERROR: Too many results requested, limit+offset must be <= 1000.\n",
      "[!] ERROR:  VALIDATION_ERROR: Too many results requested, limit+offset must be <= 1000.\n",
      "[!] ERROR:  VALIDATION_ERROR: Too many results requested, limit+offset must be <= 1000.\n",
      "[!] ERROR:  VALIDATION_ERROR: Too many results requested, limit+offset must be <= 1000.\n",
      "[!] ERROR:  VALIDATION_ERROR: Too many results requested, limit+offset must be <= 1000.\n",
      "[!] ERROR:  VALIDATION_ERROR: Too many results requested, limit+offset must be <= 1000.\n",
      "[!] ERROR:  VALIDATION_ERROR: Too many results requested, limit+offset must be <= 1000.\n",
      "[!] ERROR:  VALIDATION_ERROR: Too many results requested, limit+offset must be <= 1000.\n",
      "[!] ERROR:  VALIDATION_ERROR: Too many results requested, limit+offset must be <= 1000.\n",
      "[!] ERROR:  VALIDATION_ERROR: Too many results requested, limit+offset must be <= 1000.\n",
      "[!] ERROR:  VALIDATION_ERROR: Too many results requested, limit+offset must be <= 1000.\n",
      "[!] ERROR:  VALIDATION_ERROR: Too many results requested, limit+offset must be <= 1000.\n",
      "[!] ERROR:  VALIDATION_ERROR: Too many results requested, limit+offset must be <= 1000.\n",
      "[!] ERROR:  VALIDATION_ERROR: Too many results requested, limit+offset must be <= 1000.\n",
      "[!] ERROR:  VALIDATION_ERROR: Too many results requested, limit+offset must be <= 1000.\n",
      "[!] ERROR:  VALIDATION_ERROR: Too many results requested, limit+offset must be <= 1000.\n",
      "[!] ERROR:  VALIDATION_ERROR: Too many results requested, limit+offset must be <= 1000.\n",
      "[!] ERROR:  VALIDATION_ERROR: Too many results requested, limit+offset must be <= 1000.\n",
      "[!] ERROR:  VALIDATION_ERROR: Too many results requested, limit+offset must be <= 1000.\n",
      "[!] ERROR:  VALIDATION_ERROR: Too many results requested, limit+offset must be <= 1000.\n",
      "[!] ERROR:  VALIDATION_ERROR: Too many results requested, limit+offset must be <= 1000.\n",
      "[!] ERROR:  VALIDATION_ERROR: Too many results requested, limit+offset must be <= 1000.\n",
      "[!] ERROR:  VALIDATION_ERROR: Too many results requested, limit+offset must be <= 1000.\n",
      "[!] ERROR:  VALIDATION_ERROR: Too many results requested, limit+offset must be <= 1000.\n",
      "[!] ERROR:  VALIDATION_ERROR: Too many results requested, limit+offset must be <= 1000.\n",
      "[!] ERROR:  VALIDATION_ERROR: Too many results requested, limit+offset must be <= 1000.\n",
      "[!] ERROR:  VALIDATION_ERROR: Too many results requested, limit+offset must be <= 1000.\n",
      "[!] ERROR:  VALIDATION_ERROR: Too many results requested, limit+offset must be <= 1000.\n",
      "[!] ERROR:  VALIDATION_ERROR: Too many results requested, limit+offset must be <= 1000.\n",
      "[!] ERROR:  VALIDATION_ERROR: Too many results requested, limit+offset must be <= 1000.\n",
      "[!] ERROR:  VALIDATION_ERROR: Too many results requested, limit+offset must be <= 1000.\n",
      "[!] ERROR:  VALIDATION_ERROR: Too many results requested, limit+offset must be <= 1000.\n",
      "[!] ERROR:  VALIDATION_ERROR: Too many results requested, limit+offset must be <= 1000.\n",
      "[!] ERROR:  VALIDATION_ERROR: Too many results requested, limit+offset must be <= 1000.\n",
      "[!] ERROR:  VALIDATION_ERROR: Too many results requested, limit+offset must be <= 1000.\n",
      "[!] ERROR:  VALIDATION_ERROR: Too many results requested, limit+offset must be <= 1000.\n",
      "[!] ERROR:  VALIDATION_ERROR: Too many results requested, limit+offset must be <= 1000.\n",
      "[!] ERROR:  VALIDATION_ERROR: Too many results requested, limit+offset must be <= 1000.\n",
      "[!] ERROR:  VALIDATION_ERROR: Too many results requested, limit+offset must be <= 1000.\n",
      "[!] ERROR:  VALIDATION_ERROR: Too many results requested, limit+offset must be <= 1000.\n",
      "[!] ERROR:  VALIDATION_ERROR: Too many results requested, limit+offset must be <= 1000.\n",
      "[!] ERROR:  VALIDATION_ERROR: Too many results requested, limit+offset must be <= 1000.\n",
      "[!] ERROR:  VALIDATION_ERROR: Too many results requested, limit+offset must be <= 1000.\n",
      "[!] ERROR:  VALIDATION_ERROR: Too many results requested, limit+offset must be <= 1000.\n",
      "[!] ERROR:  VALIDATION_ERROR: Too many results requested, limit+offset must be <= 1000.\n",
      "[!] ERROR:  VALIDATION_ERROR: Too many results requested, limit+offset must be <= 1000.\n",
      "[!] ERROR:  VALIDATION_ERROR: Too many results requested, limit+offset must be <= 1000.\n",
      "[!] ERROR:  VALIDATION_ERROR: Too many results requested, limit+offset must be <= 1000.\n",
      "[!] ERROR:  VALIDATION_ERROR: Too many results requested, limit+offset must be <= 1000.\n",
      "[!] ERROR:  VALIDATION_ERROR: Too many results requested, limit+offset must be <= 1000.\n",
      "[!] ERROR:  VALIDATION_ERROR: Too many results requested, limit+offset must be <= 1000.\n",
      "[!] ERROR:  VALIDATION_ERROR: Too many results requested, limit+offset must be <= 1000.\n",
      "[!] ERROR:  VALIDATION_ERROR: Too many results requested, limit+offset must be <= 1000.\n",
      "[!] ERROR:  VALIDATION_ERROR: Too many results requested, limit+offset must be <= 1000.\n",
      "[!] ERROR:  VALIDATION_ERROR: Too many results requested, limit+offset must be <= 1000.\n",
      "[!] ERROR:  VALIDATION_ERROR: Too many results requested, limit+offset must be <= 1000.\n",
      "[!] ERROR:  VALIDATION_ERROR: Too many results requested, limit+offset must be <= 1000.\n",
      "[!] ERROR:  VALIDATION_ERROR: Too many results requested, limit+offset must be <= 1000.\n",
      "[!] ERROR:  VALIDATION_ERROR: Too many results requested, limit+offset must be <= 1000.\n",
      "[!] ERROR:  VALIDATION_ERROR: Too many results requested, limit+offset must be <= 1000.\n",
      "[!] ERROR:  VALIDATION_ERROR: Too many results requested, limit+offset must be <= 1000.\n",
      "[!] ERROR:  VALIDATION_ERROR: Too many results requested, limit+offset must be <= 1000.\n",
      "[!] ERROR:  VALIDATION_ERROR: Too many results requested, limit+offset must be <= 1000.\n",
      "[!] ERROR:  VALIDATION_ERROR: Too many results requested, limit+offset must be <= 1000.\n",
      "[!] ERROR:  VALIDATION_ERROR: Too many results requested, limit+offset must be <= 1000.\n"
     ]
    },
    {
     "name": "stdout",
     "output_type": "stream",
     "text": [
      "[!] ERROR:  VALIDATION_ERROR: Too many results requested, limit+offset must be <= 1000.\n",
      "[!] ERROR:  VALIDATION_ERROR: Too many results requested, limit+offset must be <= 1000.\n",
      "[!] ERROR:  VALIDATION_ERROR: Too many results requested, limit+offset must be <= 1000.\n",
      "[!] ERROR:  VALIDATION_ERROR: Too many results requested, limit+offset must be <= 1000.\n",
      "[!] ERROR:  VALIDATION_ERROR: Too many results requested, limit+offset must be <= 1000.\n",
      "[!] ERROR:  VALIDATION_ERROR: Too many results requested, limit+offset must be <= 1000.\n",
      "[!] ERROR:  VALIDATION_ERROR: Too many results requested, limit+offset must be <= 1000.\n",
      "[!] ERROR:  VALIDATION_ERROR: Too many results requested, limit+offset must be <= 1000.\n",
      "[!] ERROR:  VALIDATION_ERROR: Too many results requested, limit+offset must be <= 1000.\n",
      "[!] ERROR:  VALIDATION_ERROR: Too many results requested, limit+offset must be <= 1000.\n",
      "[!] ERROR:  VALIDATION_ERROR: Too many results requested, limit+offset must be <= 1000.\n",
      "[!] ERROR:  VALIDATION_ERROR: Too many results requested, limit+offset must be <= 1000.\n",
      "[!] ERROR:  VALIDATION_ERROR: Too many results requested, limit+offset must be <= 1000.\n",
      "[!] ERROR:  VALIDATION_ERROR: Too many results requested, limit+offset must be <= 1000.\n",
      "[!] ERROR:  VALIDATION_ERROR: Too many results requested, limit+offset must be <= 1000.\n",
      "[!] ERROR:  VALIDATION_ERROR: Too many results requested, limit+offset must be <= 1000.\n",
      "[!] ERROR:  VALIDATION_ERROR: Too many results requested, limit+offset must be <= 1000.\n"
     ]
    }
   ],
   "source": [
    "for i in tqdm_notebook( range(1,n_pages+1)):\n",
    "    ## The block of code we want to TRY to run\n",
    "        try:\n",
    "            \n",
    "            time.sleep(.2)\n",
    "        \n",
    "        ## Read in results in progress file and check the length\n",
    "            with open(JSON_FILE, 'r') as f:\n",
    "                previous_results = json.load(f)\n",
    "        \n",
    "        ## save number of results for to use as offset\n",
    "            n_results = len(previous_results)\n",
    "        \n",
    "        \n",
    "        ## use n_results as the OFFSET \n",
    "            results = yelp_api.search_query(location = location, \n",
    "                                           term = term,\n",
    "                                           offset = n_results+1)\n",
    "\n",
    "        ## append new results and save to file\n",
    "            previous_results.extend(results['businesses'])\n",
    "            with open(JSON_FILE, 'w') as f:\n",
    "                json.dump(previous_results, f)\n",
    "            \n",
    "    ## What to do if we get an error/exception.\n",
    "        except Exception as e: \n",
    "            print('[!] ERROR: ', e)\n"
   ]
  },
  {
   "cell_type": "markdown",
   "metadata": {},
   "source": [
    "## Open the Final JSON File with Pandas"
   ]
  },
  {
   "cell_type": "code",
   "execution_count": 27,
   "metadata": {},
   "outputs": [
    {
     "data": {
      "text/html": [
       "<div>\n",
       "<style scoped>\n",
       "    .dataframe tbody tr th:only-of-type {\n",
       "        vertical-align: middle;\n",
       "    }\n",
       "\n",
       "    .dataframe tbody tr th {\n",
       "        vertical-align: top;\n",
       "    }\n",
       "\n",
       "    .dataframe thead th {\n",
       "        text-align: right;\n",
       "    }\n",
       "</style>\n",
       "<table border=\"1\" class=\"dataframe\">\n",
       "  <thead>\n",
       "    <tr style=\"text-align: right;\">\n",
       "      <th></th>\n",
       "      <th>id</th>\n",
       "      <th>alias</th>\n",
       "      <th>name</th>\n",
       "      <th>image_url</th>\n",
       "      <th>is_closed</th>\n",
       "      <th>url</th>\n",
       "      <th>review_count</th>\n",
       "      <th>categories</th>\n",
       "      <th>rating</th>\n",
       "      <th>coordinates</th>\n",
       "      <th>transactions</th>\n",
       "      <th>price</th>\n",
       "      <th>location</th>\n",
       "      <th>phone</th>\n",
       "      <th>display_phone</th>\n",
       "      <th>distance</th>\n",
       "    </tr>\n",
       "  </thead>\n",
       "  <tbody>\n",
       "    <tr>\n",
       "      <th>0</th>\n",
       "      <td>6ajnOk0GcY9xbb5Ocaw8Gw</td>\n",
       "      <td>barbuzzo-philadelphia</td>\n",
       "      <td>Barbuzzo</td>\n",
       "      <td>https://s3-media3.fl.yelpcdn.com/bphoto/vCTPQ2...</td>\n",
       "      <td>False</td>\n",
       "      <td>https://www.yelp.com/biz/barbuzzo-philadelphia...</td>\n",
       "      <td>3081</td>\n",
       "      <td>[{'alias': 'mediterranean', 'title': 'Mediterr...</td>\n",
       "      <td>4.5</td>\n",
       "      <td>{'latitude': 39.94999, 'longitude': -75.16216}</td>\n",
       "      <td>[pickup, delivery]</td>\n",
       "      <td>$$</td>\n",
       "      <td>{'address1': '110 S 13th St', 'address2': '', ...</td>\n",
       "      <td>+12155469300</td>\n",
       "      <td>(215) 546-9300</td>\n",
       "      <td>877.931790</td>\n",
       "    </tr>\n",
       "    <tr>\n",
       "      <th>1</th>\n",
       "      <td>lKU_kljhbEQKIPaM1Zbqiw</td>\n",
       "      <td>little-nonnas-philadelphia</td>\n",
       "      <td>Little Nonna's</td>\n",
       "      <td>https://s3-media2.fl.yelpcdn.com/bphoto/0dQJ4d...</td>\n",
       "      <td>False</td>\n",
       "      <td>https://www.yelp.com/biz/little-nonnas-philade...</td>\n",
       "      <td>1251</td>\n",
       "      <td>[{'alias': 'italian', 'title': 'Italian'}]</td>\n",
       "      <td>4.0</td>\n",
       "      <td>{'latitude': 39.9477864380196, 'longitude': -7...</td>\n",
       "      <td>[pickup, delivery]</td>\n",
       "      <td>$$</td>\n",
       "      <td>{'address1': '1234 Locust St', 'address2': '',...</td>\n",
       "      <td>+12155462100</td>\n",
       "      <td>(215) 546-2100</td>\n",
       "      <td>1036.521920</td>\n",
       "    </tr>\n",
       "    <tr>\n",
       "      <th>2</th>\n",
       "      <td>dYinIkKBspHV5hSaukklFg</td>\n",
       "      <td>l-angolo-ristorante-philadelphia-3</td>\n",
       "      <td>L'Angolo Ristorante</td>\n",
       "      <td>https://s3-media1.fl.yelpcdn.com/bphoto/_-xeA0...</td>\n",
       "      <td>False</td>\n",
       "      <td>https://www.yelp.com/biz/l-angolo-ristorante-p...</td>\n",
       "      <td>409</td>\n",
       "      <td>[{'alias': 'italian', 'title': 'Italian'}]</td>\n",
       "      <td>4.5</td>\n",
       "      <td>{'latitude': 39.9196243286133, 'longitude': -7...</td>\n",
       "      <td>[pickup, delivery]</td>\n",
       "      <td>$$</td>\n",
       "      <td>{'address1': '1415 W Porter St', 'address2': N...</td>\n",
       "      <td>+12153894252</td>\n",
       "      <td>(215) 389-4252</td>\n",
       "      <td>3797.786432</td>\n",
       "    </tr>\n",
       "    <tr>\n",
       "      <th>3</th>\n",
       "      <td>-bV-HbEV9F0qXvmukmQwbw</td>\n",
       "      <td>luna-byob-philadelphia</td>\n",
       "      <td>Luna BYOB</td>\n",
       "      <td>https://s3-media4.fl.yelpcdn.com/bphoto/kR-O3p...</td>\n",
       "      <td>False</td>\n",
       "      <td>https://www.yelp.com/biz/luna-byob-philadelphi...</td>\n",
       "      <td>6</td>\n",
       "      <td>[{'alias': 'italian', 'title': 'Italian'}]</td>\n",
       "      <td>5.0</td>\n",
       "      <td>{'latitude': 39.949678356249585, 'longitude': ...</td>\n",
       "      <td>[]</td>\n",
       "      <td>NaN</td>\n",
       "      <td>{'address1': '227 S 20th St', 'address2': '', ...</td>\n",
       "      <td>+12156932220</td>\n",
       "      <td>(215) 693-2220</td>\n",
       "      <td>507.314834</td>\n",
       "    </tr>\n",
       "    <tr>\n",
       "      <th>4</th>\n",
       "      <td>eLbKuFpCtHEjCkoWkDDk7g</td>\n",
       "      <td>trattoria-carina-philadelphia-2</td>\n",
       "      <td>Trattoria Carina</td>\n",
       "      <td>https://s3-media4.fl.yelpcdn.com/bphoto/Q3N-1y...</td>\n",
       "      <td>False</td>\n",
       "      <td>https://www.yelp.com/biz/trattoria-carina-phil...</td>\n",
       "      <td>280</td>\n",
       "      <td>[{'alias': 'italian', 'title': 'Italian'}]</td>\n",
       "      <td>4.5</td>\n",
       "      <td>{'latitude': 39.94878, 'longitude': -75.17803}</td>\n",
       "      <td>[delivery]</td>\n",
       "      <td>$$</td>\n",
       "      <td>{'address1': '2201 Spruce St', 'address2': '',...</td>\n",
       "      <td>+12157325818</td>\n",
       "      <td>(215) 732-5818</td>\n",
       "      <td>798.325153</td>\n",
       "    </tr>\n",
       "  </tbody>\n",
       "</table>\n",
       "</div>"
      ],
      "text/plain": [
       "                       id                               alias  \\\n",
       "0  6ajnOk0GcY9xbb5Ocaw8Gw               barbuzzo-philadelphia   \n",
       "1  lKU_kljhbEQKIPaM1Zbqiw          little-nonnas-philadelphia   \n",
       "2  dYinIkKBspHV5hSaukklFg  l-angolo-ristorante-philadelphia-3   \n",
       "3  -bV-HbEV9F0qXvmukmQwbw              luna-byob-philadelphia   \n",
       "4  eLbKuFpCtHEjCkoWkDDk7g     trattoria-carina-philadelphia-2   \n",
       "\n",
       "                  name                                          image_url  \\\n",
       "0             Barbuzzo  https://s3-media3.fl.yelpcdn.com/bphoto/vCTPQ2...   \n",
       "1       Little Nonna's  https://s3-media2.fl.yelpcdn.com/bphoto/0dQJ4d...   \n",
       "2  L'Angolo Ristorante  https://s3-media1.fl.yelpcdn.com/bphoto/_-xeA0...   \n",
       "3            Luna BYOB  https://s3-media4.fl.yelpcdn.com/bphoto/kR-O3p...   \n",
       "4     Trattoria Carina  https://s3-media4.fl.yelpcdn.com/bphoto/Q3N-1y...   \n",
       "\n",
       "   is_closed                                                url  review_count  \\\n",
       "0      False  https://www.yelp.com/biz/barbuzzo-philadelphia...          3081   \n",
       "1      False  https://www.yelp.com/biz/little-nonnas-philade...          1251   \n",
       "2      False  https://www.yelp.com/biz/l-angolo-ristorante-p...           409   \n",
       "3      False  https://www.yelp.com/biz/luna-byob-philadelphi...             6   \n",
       "4      False  https://www.yelp.com/biz/trattoria-carina-phil...           280   \n",
       "\n",
       "                                          categories  rating  \\\n",
       "0  [{'alias': 'mediterranean', 'title': 'Mediterr...     4.5   \n",
       "1         [{'alias': 'italian', 'title': 'Italian'}]     4.0   \n",
       "2         [{'alias': 'italian', 'title': 'Italian'}]     4.5   \n",
       "3         [{'alias': 'italian', 'title': 'Italian'}]     5.0   \n",
       "4         [{'alias': 'italian', 'title': 'Italian'}]     4.5   \n",
       "\n",
       "                                         coordinates        transactions  \\\n",
       "0     {'latitude': 39.94999, 'longitude': -75.16216}  [pickup, delivery]   \n",
       "1  {'latitude': 39.9477864380196, 'longitude': -7...  [pickup, delivery]   \n",
       "2  {'latitude': 39.9196243286133, 'longitude': -7...  [pickup, delivery]   \n",
       "3  {'latitude': 39.949678356249585, 'longitude': ...                  []   \n",
       "4     {'latitude': 39.94878, 'longitude': -75.17803}          [delivery]   \n",
       "\n",
       "  price                                           location         phone  \\\n",
       "0    $$  {'address1': '110 S 13th St', 'address2': '', ...  +12155469300   \n",
       "1    $$  {'address1': '1234 Locust St', 'address2': '',...  +12155462100   \n",
       "2    $$  {'address1': '1415 W Porter St', 'address2': N...  +12153894252   \n",
       "3   NaN  {'address1': '227 S 20th St', 'address2': '', ...  +12156932220   \n",
       "4    $$  {'address1': '2201 Spruce St', 'address2': '',...  +12157325818   \n",
       "\n",
       "    display_phone     distance  \n",
       "0  (215) 546-9300   877.931790  \n",
       "1  (215) 546-2100  1036.521920  \n",
       "2  (215) 389-4252  3797.786432  \n",
       "3  (215) 693-2220   507.314834  \n",
       "4  (215) 732-5818   798.325153  "
      ]
     },
     "execution_count": 27,
     "metadata": {},
     "output_type": "execute_result"
    }
   ],
   "source": [
    "df = pd.read_json(JSON_FILE)\n",
    "df.head()"
   ]
  },
  {
   "cell_type": "code",
   "execution_count": 28,
   "metadata": {},
   "outputs": [
    {
     "data": {
      "text/plain": [
       "'Data/Philadelphia-italian.csv.gz'"
      ]
     },
     "execution_count": 28,
     "metadata": {},
     "output_type": "execute_result"
    }
   ],
   "source": [
    "## convert the filename to a .csv.gz\n",
    "csv_file = JSON_FILE.replace('.json','.csv.gz')\n",
    "csv_file"
   ]
  },
  {
   "cell_type": "code",
   "execution_count": 29,
   "metadata": {},
   "outputs": [],
   "source": [
    "## Save it as a compressed csv (to save space)\n",
    "df.to_csv(csv_file, compression = 'gzip', index = False)"
   ]
  },
  {
   "cell_type": "markdown",
   "metadata": {},
   "source": [
    "## Bonus: compare filesize with os module's `os.path.getsize`"
   ]
  },
  {
   "cell_type": "code",
   "execution_count": 30,
   "metadata": {},
   "outputs": [
    {
     "name": "stdout",
     "output_type": "stream",
     "text": [
      "JSON FILE: 966,796 Bytes\n",
      "CSV.GZ FILE: 146,438 Bytes\n",
      "the csv.gz is 6.6020841584834535 times smaller!\n"
     ]
    }
   ],
   "source": [
    "size_json = os.path.getsize(JSON_FILE)\n",
    "size_csv_gz = os.path.getsize(JSON_FILE.replace('.json','.csv.gz'))\n",
    "\n",
    "print(f'JSON FILE: {size_json:,} Bytes')\n",
    "print(f'CSV.GZ FILE: {size_csv_gz:,} Bytes')\n",
    "\n",
    "print(f'the csv.gz is {size_json/size_csv_gz} times smaller!')"
   ]
  },
  {
   "cell_type": "markdown",
   "metadata": {},
   "source": [
    "## Next Class: Processing the Results and Mapping "
   ]
  }
 ],
 "metadata": {
  "colab": {
   "collapsed_sections": [],
   "name": "Test Yelp API Package.ipynb",
   "provenance": []
  },
  "kernelspec": {
   "display_name": "Python (dojo-env)",
   "language": "python",
   "name": "dojo-env"
  },
  "language_info": {
   "codemirror_mode": {
    "name": "ipython",
    "version": 3
   },
   "file_extension": ".py",
   "mimetype": "text/x-python",
   "name": "python",
   "nbconvert_exporter": "python",
   "pygments_lexer": "ipython3",
   "version": "3.9.15"
  },
  "toc": {
   "base_numbering": 1,
   "nav_menu": {},
   "number_sections": false,
   "sideBar": true,
   "skip_h1_title": false,
   "title_cell": "Table of Contents",
   "title_sidebar": "Contents",
   "toc_cell": false,
   "toc_position": {
    "height": "calc(100% - 180px)",
    "left": "10px",
    "top": "150px",
    "width": "218.188px"
   },
   "toc_section_display": true,
   "toc_window_display": true
  }
 },
 "nbformat": 4,
 "nbformat_minor": 1
}
